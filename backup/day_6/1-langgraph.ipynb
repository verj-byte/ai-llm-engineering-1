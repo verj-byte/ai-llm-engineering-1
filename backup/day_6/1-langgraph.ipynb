{
  "cells": [
    {
      "cell_type": "markdown",
      "metadata": {
        "id": "gJXW_DgiSebM"
      },
      "source": [
        "# LangGraph and LangSmith - Agentic RAG Powered by LangChain\n",
        "\n",
        "In the following notebook we'll complete the following tasks:\n",
        "\n",
        "- 🤝 Breakout Room #1:\n",
        "  1. Install required libraries\n",
        "  2. Set Environment Variables\n",
        "  3. Creating our Tool Belt\n",
        "  4. Creating Our State\n",
        "  5. Creating and Compiling A Graph!\n",
        "\n",
        "- 🤝 Breakout Room #2:\n",
        "  1. Evaluating the LangGraph Application with LangSmith\n",
        "  2. Adding Helpfulness Check and \"Loop\" Limits\n",
        "  3. LangGraph for the \"Patterns\" of GenAI"
      ]
    },
    {
      "cell_type": "markdown",
      "metadata": {
        "id": "djQ3nRAgoF67"
      },
      "source": [
        "# 🤝 Breakout Room #1"
      ]
    },
    {
      "cell_type": "markdown",
      "metadata": {
        "id": "e7pQDUhUnIo8"
      },
      "source": [
        "## Part 1: LangGraph - Building Cyclic Applications with LangChain\n",
        "\n",
        "LangGraph is a tool that leverages LangChain Expression Language to build coordinated multi-actor and stateful applications that includes cyclic behaviour.\n",
        "\n",
        "### Why Cycles?\n",
        "\n",
        "In essence, we can think of a cycle in our graph as a more robust and customizable loop. It allows us to keep our application agent-forward while still giving the powerful functionality of traditional loops.\n",
        "\n",
        "Due to the inclusion of cycles over loops, we can also compose rather complex flows through our graph in a much more readable and natural fashion. Effectively allowing us to recreate application flowcharts in code in an almost 1-to-1 fashion.\n",
        "\n",
        "### Why LangGraph?\n",
        "\n",
        "Beyond the agent-forward approach - we can easily compose and combine traditional \"DAG\" (directed acyclic graph) chains with powerful cyclic behaviour due to the tight integration with LCEL. This means it's a natural extension to LangChain's core offerings!"
      ]
    },
    {
      "cell_type": "markdown",
      "metadata": {
        "id": "3_fLDElOVoop"
      },
      "source": [
        "## Task 1:  Dependencies\n"
      ]
    },
    {
      "cell_type": "markdown",
      "metadata": {
        "id": "wujPjGJuoPwg"
      },
      "source": [
        "## Task 2: Environment Variables\n",
        "\n",
        "We'll want to set both our OpenAI API key and our LangSmith environment variables."
      ]
    },
    {
      "cell_type": "code",
      "execution_count": 2,
      "metadata": {
        "colab": {
          "base_uri": "https://localhost:8080/"
        },
        "id": "Jdh8CoVWHRvs",
        "outputId": "3fa78560-393c-4ee5-b871-9886bf0d70f4"
      },
      "outputs": [],
      "source": [
        "import os\n",
        "import getpass\n",
        "\n",
        "os.environ[\"OPENAI_API_KEY\"] = getpass.getpass(\"OpenAI API Key:\")"
      ]
    },
    {
      "cell_type": "code",
      "execution_count": 3,
      "metadata": {
        "colab": {
          "base_uri": "https://localhost:8080/"
        },
        "id": "Jkla2fpx28QK",
        "outputId": "52d7ad22-fcb1-4abe-853b-216c55a12650"
      },
      "outputs": [],
      "source": [
        "os.environ[\"TAVILY_API_KEY\"] = getpass.getpass(\"TAVILY_API_KEY\")"
      ]
    },
    {
      "cell_type": "code",
      "execution_count": 4,
      "metadata": {
        "colab": {
          "base_uri": "https://localhost:8080/"
        },
        "id": "Nv0glIDyHmRt",
        "outputId": "b69df90a-b4e1-4ddb-9de0-882d98b68ab2"
      },
      "outputs": [],
      "source": [
        "from uuid import uuid4\n",
        "\n",
        "os.environ[\"LANGCHAIN_TRACING_V2\"] = \"true\"\n",
        "os.environ[\"LANGCHAIN_PROJECT\"] = f\"PSI AIE6 - LangGraph - {uuid4().hex[0:8]}\"\n",
        "os.environ[\"LANGCHAIN_API_KEY\"] = getpass.getpass(\"LangSmith API Key: \")"
      ]
    },
    {
      "cell_type": "markdown",
      "metadata": {
        "id": "sBRyQmEAVzua"
      },
      "source": [
        "## Task 3: Creating our Tool Belt\n",
        "\n",
        "As is usually the case, we'll want to equip our agent with a toolbelt to help answer questions and add external knowledge.\n",
        "\n",
        "There's a tonne of tools in the [LangChain Community Repo](https://github.com/langchain-ai/langchain-community/tree/main/libs/community) but we'll stick to a couple just so we can observe the cyclic nature of LangGraph in action!\n",
        "\n",
        "We'll leverage:\n",
        "\n",
        "- [Tavily Search Results](https://github.com/langchain-ai/langchain-community/blob/main/libs/community/langchain_community/tools/tavily_search/tool.py)\n",
        "- [Arxiv](https://github.com/langchain-ai/langchain-community/blob/main/libs/community/langchain_community/tools/arxiv/tool.py)"
      ]
    },
    {
      "cell_type": "markdown",
      "metadata": {
        "id": "2k6n_Dob2F46"
      },
      "source": [
        "#### 🏗️ Activity #1:\n",
        "\n",
        "Please add the tools to use into our toolbelt.\n",
        "\n",
        "> NOTE: Each tool in our toolbelt should be a method."
      ]
    },
    {
      "cell_type": "code",
      "execution_count": 5,
      "metadata": {
        "id": "lAxaSvlfIeOg"
      },
      "outputs": [
        {
          "name": "stderr",
          "output_type": "stream",
          "text": [
            "C:\\Users\\DadaV\\AppData\\Local\\Temp\\ipykernel_36540\\1203815797.py:4: LangChainDeprecationWarning: The class `TavilySearchResults` was deprecated in LangChain 0.3.25 and will be removed in 1.0. An updated version of the class exists in the :class:`~langchain-tavily package and should be used instead. To use it run `pip install -U :class:`~langchain-tavily` and import as `from :class:`~langchain_tavily import TavilySearch``.\n",
            "  tavily_tool = TavilySearchResults(max_results=5)\n"
          ]
        }
      ],
      "source": [
        "from langchain_community.tools.tavily_search import TavilySearchResults\n",
        "from langchain_community.tools.arxiv.tool import ArxivQueryRun\n",
        "\n",
        "tavily_tool = TavilySearchResults(max_results=5)\n",
        "\n",
        "tool_belt = [\n",
        "    tavily_tool,\n",
        "    ArxivQueryRun(),\n",
        "]"
      ]
    },
    {
      "cell_type": "markdown",
      "metadata": {
        "id": "VI-C669ZYVI5"
      },
      "source": [
        "### Model\n",
        "\n",
        "Now we can set-up our model! We'll leverage the familiar OpenAI model suite for this example - but it's not *necessary* to use with LangGraph. LangGraph supports all models - though you might not find success with smaller models - as such, they recommend you stick with:\n",
        "\n",
        "- OpenAI's GPT-3.5 and GPT-4\n",
        "- Anthropic's Claude\n",
        "- Google's Gemini\n",
        "\n",
        "> NOTE: Because we're leveraging the OpenAI function calling API - we'll need to use OpenAI *for this specific example* (or any other service that exposes an OpenAI-style function calling API."
      ]
    },
    {
      "cell_type": "code",
      "execution_count": 6,
      "metadata": {
        "id": "QkNS8rNZJs4z"
      },
      "outputs": [],
      "source": [
        "from langchain_openai import ChatOpenAI\n",
        "\n",
        "model = ChatOpenAI(model=\"gpt-4.1-nano\", temperature=0)"
      ]
    },
    {
      "cell_type": "markdown",
      "metadata": {
        "id": "Ugkj3GzuZpQv"
      },
      "source": [
        "Now that we have our model set-up, let's \"put on the tool belt\", which is to say: We'll bind our LangChain formatted tools to the model in an OpenAI function calling format."
      ]
    },
    {
      "cell_type": "code",
      "execution_count": 7,
      "metadata": {
        "id": "4OdMqFafZ_0V"
      },
      "outputs": [],
      "source": [
        "model = model.bind_tools(tool_belt)"
      ]
    },
    {
      "cell_type": "markdown",
      "metadata": {
        "id": "ERzuGo6W18Lr"
      },
      "source": [
        "#### ❓ Question #1:\n",
        "\n",
        "How does the model determine which tool to use?\n",
        "\n",
        "\n",
        "#### ❓ Answer:\n",
        "\n",
        "When tools are integrated into a LangChain agent, their names, parameters, and descriptions are usually incorporated into the system prompt. The LLM uses this information to understand what each tool does. For example, it sees that Tavily is a web search tool and arXiv fetches academic papers—then matches user intent to those capabilities.\n",
        "\n",
        "The model typically performs internal reasoning before calling a tool, that is, it interprets the user’s query, narrows down the tool best suited to that purpose, and then formats a tool call accordingly.\n",
        "\n",
        "Research also shows that subtle cues in tool descriptions — wording, examples, ordering, can significantly bias which tool the model chooses. For instance, appending phrases like “most effective function for this purpose” or emphasizing that a tool is “actively maintained” can dramatically increase its selection likelihood.\n"
      ]
    },
    {
      "cell_type": "markdown",
      "metadata": {
        "id": "_296Ub96Z_H8"
      },
      "source": [
        "## Task 4: Putting the State in Stateful\n",
        "\n",
        "Earlier we used this phrasing:\n",
        "\n",
        "`coordinated multi-actor and stateful applications`\n",
        "\n",
        "So what does that \"stateful\" mean?\n",
        "\n",
        "To put it simply - we want to have some kind of object which we can pass around our application that holds information about what the current situation (state) is. Since our system will be constructed of many parts moving in a coordinated fashion - we want to be able to ensure we have some commonly understood idea of that state.\n",
        "\n",
        "LangGraph leverages a `StatefulGraph` which uses an `AgentState` object to pass information between the various nodes of the graph.\n",
        "\n",
        "There are more options than what we'll see below - but this `AgentState` object is one that is stored in a `TypedDict` with the key `messages` and the value is a `Sequence` of `BaseMessages` that will be appended to whenever the state changes.\n",
        "\n",
        "Let's think about a simple example to help understand exactly what this means (we'll simplify a great deal to try and clearly communicate what state is doing):\n",
        "\n",
        "1. We initialize our state object:\n",
        "  - `{\"messages\" : []}`\n",
        "2. Our user submits a query to our application.\n",
        "  - New State: `HumanMessage(#1)`\n",
        "  - `{\"messages\" : [HumanMessage(#1)}`\n",
        "3. We pass our state object to an Agent node which is able to read the current state. It will use the last `HumanMessage` as input. It gets some kind of output which it will add to the state.\n",
        "  - New State: `AgentMessage(#1, additional_kwargs {\"function_call\" : \"WebSearchTool\"})`\n",
        "  - `{\"messages\" : [HumanMessage(#1), AgentMessage(#1, ...)]}`\n",
        "4. We pass our state object to a \"conditional node\" (more on this later) which reads the last state to determine if we need to use a tool - which it can determine properly because of our provided object!"
      ]
    },
    {
      "cell_type": "code",
      "execution_count": 8,
      "metadata": {
        "id": "mxL9b_NZKUdL"
      },
      "outputs": [],
      "source": [
        "from typing import TypedDict, Annotated\n",
        "from langgraph.graph.message import add_messages\n",
        "import operator\n",
        "from langchain_core.messages import BaseMessage\n",
        "\n",
        "class AgentState(TypedDict):\n",
        "  messages: Annotated[list, add_messages]"
      ]
    },
    {
      "cell_type": "markdown",
      "metadata": {
        "id": "vWsMhfO9grLu"
      },
      "source": [
        "## Task 5: It's Graphing Time!\n",
        "\n",
        "Now that we have state, and we have tools, and we have an LLM - we can finally start making our graph!\n",
        "\n",
        "Let's take a second to refresh ourselves about what a graph is in this context.\n",
        "\n",
        "Graphs, also called networks in some circles, are a collection of connected objects.\n",
        "\n",
        "The objects in question are typically called nodes, or vertices, and the connections are called edges.\n",
        "\n",
        "Let's look at a simple graph.\n",
        "\n",
        "![image](https://i.imgur.com/2NFLnIc.png)\n",
        "\n",
        "Here, we're using the coloured circles to represent the nodes and the yellow lines to represent the edges. In this case, we're looking at a fully connected graph - where each node is connected by an edge to each other node.\n",
        "\n",
        "If we were to think about nodes in the context of LangGraph - we would think of a function, or an LCEL runnable.\n",
        "\n",
        "If we were to think about edges in the context of LangGraph - we might think of them as \"paths to take\" or \"where to pass our state object next\".\n",
        "\n",
        "Let's create some nodes and expand on our diagram.\n",
        "\n",
        "> NOTE: Due to the tight integration with LCEL - we can comfortably create our nodes in an async fashion!"
      ]
    },
    {
      "cell_type": "code",
      "execution_count": 9,
      "metadata": {
        "id": "91flJWtZLUrl"
      },
      "outputs": [],
      "source": [
        "from langgraph.prebuilt import ToolNode\n",
        "\n",
        "def call_model(state):\n",
        "  messages = state[\"messages\"]\n",
        "  response = model.invoke(messages)\n",
        "  return {\"messages\" : [response]}\n",
        "\n",
        "tool_node = ToolNode(tool_belt)"
      ]
    },
    {
      "cell_type": "markdown",
      "metadata": {
        "id": "2bwR7MgWj3Wg"
      },
      "source": [
        "Now we have two total nodes. We have:\n",
        "\n",
        "- `call_model` is a node that will...well...call the model\n",
        "- `tool_node` is a node which can call a tool\n",
        "\n",
        "Let's start adding nodes! We'll update our diagram along the way to keep track of what this looks like!\n"
      ]
    },
    {
      "cell_type": "code",
      "execution_count": 10,
      "metadata": {
        "colab": {
          "base_uri": "https://localhost:8080/"
        },
        "id": "_vF4_lgtmQNo",
        "outputId": "a4384377-8f7a-415f-be1b-fee6169cb101"
      },
      "outputs": [
        {
          "data": {
            "text/plain": [
              "<langgraph.graph.state.StateGraph at 0x24a113a5550>"
            ]
          },
          "execution_count": 10,
          "metadata": {},
          "output_type": "execute_result"
        }
      ],
      "source": [
        "from langgraph.graph import StateGraph, END\n",
        "\n",
        "uncompiled_graph = StateGraph(AgentState)\n",
        "\n",
        "uncompiled_graph.add_node(\"agent\", call_model)\n",
        "uncompiled_graph.add_node(\"action\", tool_node)"
      ]
    },
    {
      "cell_type": "markdown",
      "metadata": {
        "id": "b8CjRlbVmRpW"
      },
      "source": [
        "Let's look at what we have so far:\n",
        "\n",
        "![image](https://i.imgur.com/md7inqG.png)"
      ]
    },
    {
      "cell_type": "markdown",
      "metadata": {
        "id": "uaXHpPeSnOWC"
      },
      "source": [
        "Next, we'll add our entrypoint. All our entrypoint does is indicate which node is called first."
      ]
    },
    {
      "cell_type": "code",
      "execution_count": 11,
      "metadata": {
        "colab": {
          "base_uri": "https://localhost:8080/"
        },
        "id": "YGCbaYqRnmiw",
        "outputId": "5351807c-2ac7-4316-a3a3-878abeacd114"
      },
      "outputs": [
        {
          "data": {
            "text/plain": [
              "<langgraph.graph.state.StateGraph at 0x24a113a5550>"
            ]
          },
          "execution_count": 11,
          "metadata": {},
          "output_type": "execute_result"
        }
      ],
      "source": [
        "uncompiled_graph.set_entry_point(\"agent\")"
      ]
    },
    {
      "cell_type": "markdown",
      "metadata": {
        "id": "BUsfGoSpoF9U"
      },
      "source": [
        "![image](https://i.imgur.com/wNixpJe.png)"
      ]
    },
    {
      "cell_type": "markdown",
      "metadata": {
        "id": "0Q_pQgHmoW0M"
      },
      "source": [
        "Now we want to build a \"conditional edge\" which will use the output state of a node to determine which path to follow.\n",
        "\n",
        "We can help conceptualize this by thinking of our conditional edge as a conditional in a flowchart!\n",
        "\n",
        "Notice how our function simply checks if there is a \"function_call\" kwarg present.\n",
        "\n",
        "Then we create an edge where the origin node is our agent node and our destination node is *either* the action node or the END (finish the graph).\n",
        "\n",
        "It's important to highlight that the dictionary passed in as the third parameter (the mapping) should be created with the possible outputs of our conditional function in mind. In this case `should_continue` outputs either `\"end\"` or `\"continue\"` which are subsequently mapped to the action node or the END node."
      ]
    },
    {
      "cell_type": "code",
      "execution_count": null,
      "metadata": {
        "colab": {
          "base_uri": "https://localhost:8080/"
        },
        "id": "1BZgb81VQf9o",
        "outputId": "73a07c15-5f0b-40f2-b033-38b57d056dd8"
      },
      "outputs": [
        {
          "data": {
            "text/plain": [
              "<langgraph.graph.state.StateGraph at 0x24a113a5550>"
            ]
          },
          "execution_count": 12,
          "metadata": {},
          "output_type": "execute_result"
        }
      ],
      "source": [
        "def should_continue(state):\n",
        "  last_message = state[\"messages\"][-1]\n",
        "\n",
        "  if last_message.tool_calls:\n",
        "    return \"action\"\n",
        "\n",
        "  return END\n",
        "\n",
        "uncompiled_graph.add_conditional_edges(\"agent\", should_continue)"
      ]
    },
    {
      "cell_type": "markdown",
      "metadata": {
        "id": "-Cvhcf4jp0Ce"
      },
      "source": [
        "Let's visualize what this looks like.\n",
        "\n",
        "![image](https://i.imgur.com/8ZNwKI5.png)"
      ]
    },
    {
      "cell_type": "markdown",
      "metadata": {
        "id": "yKCjWJCkrJb9"
      },
      "source": [
        "Finally, we can add our last edge which will connect our action node to our agent node. This is because we *always* want our action node (which is used to call our tools) to return its output to our agent!"
      ]
    },
    {
      "cell_type": "code",
      "execution_count": 14,
      "metadata": {
        "colab": {
          "base_uri": "https://localhost:8080/"
        },
        "id": "UvcgbHf1rIXZ",
        "outputId": "45d4bdd6-d6bb-4a1d-bb79-cad43c130bf2"
      },
      "outputs": [
        {
          "data": {
            "text/plain": [
              "<langgraph.graph.state.StateGraph at 0x24a113a5550>"
            ]
          },
          "execution_count": 14,
          "metadata": {},
          "output_type": "execute_result"
        }
      ],
      "source": [
        "uncompiled_graph.add_edge(\"action\", \"agent\")"
      ]
    },
    {
      "cell_type": "markdown",
      "metadata": {
        "id": "EiWDwBQtrw7Z"
      },
      "source": [
        "Let's look at the final visualization.\n",
        "\n",
        "![image](https://i.imgur.com/NWO7usO.png)"
      ]
    },
    {
      "cell_type": "markdown",
      "metadata": {
        "id": "KYqDpErlsCsu"
      },
      "source": [
        "All that's left to do now is to compile our workflow - and we're off!"
      ]
    },
    {
      "cell_type": "code",
      "execution_count": 15,
      "metadata": {
        "id": "zt9-KS8DpzNx"
      },
      "outputs": [],
      "source": [
        "simple_agent_graph = uncompiled_graph.compile()"
      ]
    },
    {
      "cell_type": "markdown",
      "metadata": {
        "id": "xhNWIwBL1W4Q"
      },
      "source": [
        "#### ❓ Question #2:\n",
        "\n",
        "Is there any specific limit to how many times we can cycle?\n",
        "\n",
        "If not, how could we impose a limit to the number of cycles?\n",
        "\n",
        "#### ❓ Answer:\n",
        "\n",
        "In the LangChain's Graph Agents, there really is no hard universal limit on how many cycles can be run. The model will happily keep reasoning and calling tools until it is stopped.\n",
        "\n",
        "There are, however, practical limits, such as the following:\n",
        "\n",
        "- Cost & latency — Each cycle is another LLM call, so API cost and time grow quickly.\n",
        "\n",
        "- Context window exhaustion — If the full history is kept appended into the prompt, the token limit will eventually be hit.\n",
        "\n",
        "- Infinite loops — If the graph or reasoning loop doesn’t have a clear stopping criterion, the LLM can keep going forever or until its runtime dies.\n",
        "\n",
        "And to impose limits at the agent or graph execution engine level, the following can be considered:\n",
        "\n",
        "- Fixed max iterations. In LangChain, most agent runners accept a max_iterations or similar parameter:\n",
        "\n",
        "    result = agent_executor.run(input=\"...\", max_iterations=5)\n",
        "\n",
        "    After 5 cycles, it will stop — even if the task isn’t “finished.”\n",
        "\n",
        "- Apply custom stopping logic in the graph, for example:\n",
        "\n",
        "        from langgraph.graph import StateGraph\n",
        "\n",
        "        MAX_CYCLES = 5\n",
        "        cycles = 0\n",
        "\n",
        "        def my_node(state):\n",
        "            global cycles\n",
        "            cycles += 1\n",
        "            if cycles >= MAX_CYCLES:\n",
        "                return {\"stop\": True}\n",
        "            # otherwise keep processing...\n",
        "\n",
        "- Model-internal stopping criteria. Prompt the LLM to stop when certain conditions are met, example:\n",
        "\n",
        "    \"If you cannot make progress or you have already tried 5 reasoning steps, stop and return the final answer.\"\n",
        "\n",
        "- Timeout-based cutoff. Instead of counting iterations, total execution time budget can be enforced, for example to terminate after 30 seconds.\n",
        "\n"
      ]
    },
    {
      "cell_type": "markdown",
      "metadata": {
        "id": "VEYcTShCsPaa"
      },
      "source": [
        "## Using Our Graph\n",
        "\n",
        "Now that we've created and compiled our graph - we can call it *just as we'd call any other* `Runnable`!\n",
        "\n",
        "Let's try out a few examples to see how it fairs:"
      ]
    },
    {
      "cell_type": "code",
      "execution_count": 16,
      "metadata": {
        "colab": {
          "base_uri": "https://localhost:8080/"
        },
        "id": "Qn4n37PQRPII",
        "outputId": "5eeedfae-089d-496e-e71f-071939fa5832"
      },
      "outputs": [
        {
          "name": "stdout",
          "output_type": "stream",
          "text": [
            "Receiving update from node: 'agent'\n",
            "[AIMessage(content='', additional_kwargs={'tool_calls': [{'id': 'call_QxUBltF4s0KRmZ0xEx3l7TQT', 'function': {'arguments': '{\"query\":\"current captain of the Winnipeg Jets\"}', 'name': 'tavily_search_results_json'}, 'type': 'function'}], 'refusal': None}, response_metadata={'token_usage': {'completion_tokens': 23, 'prompt_tokens': 162, 'total_tokens': 185, 'completion_tokens_details': {'accepted_prediction_tokens': 0, 'audio_tokens': 0, 'reasoning_tokens': 0, 'rejected_prediction_tokens': 0}, 'prompt_tokens_details': {'audio_tokens': 0, 'cached_tokens': 0}}, 'model_name': 'gpt-4.1-nano-2025-04-14', 'system_fingerprint': 'fp_38343a2f8f', 'id': 'chatcmpl-C3nhdxsSmK5Vf5yPWCDGcHnBI2CvC', 'service_tier': 'default', 'finish_reason': 'tool_calls', 'logprobs': None}, id='run--3053bb9d-f6fb-4dc9-89b8-b5d7a2fcccf7-0', tool_calls=[{'name': 'tavily_search_results_json', 'args': {'query': 'current captain of the Winnipeg Jets'}, 'id': 'call_QxUBltF4s0KRmZ0xEx3l7TQT', 'type': 'tool_call'}], usage_metadata={'input_tokens': 162, 'output_tokens': 23, 'total_tokens': 185, 'input_token_details': {'audio': 0, 'cache_read': 0}, 'output_token_details': {'audio': 0, 'reasoning': 0}})]\n",
            "\n",
            "\n",
            "\n",
            "Receiving update from node: 'action'\n",
            "[ToolMessage(content='[{\"title\": \"Winnipeg Jets - Wikipedia\", \"url\": \"https://en.wikipedia.org/wiki/Winnipeg_Jets\", \"content\": \"|  v  t  e  Winnipeg Jets | |\\\\n| --- | --- |\\\\n|  Formerly the Atlanta Thrashers  Founded in 1999  Based in Winnipeg, Manitoba | |\\\\n| Franchise |  Team  General managers  Coaches  Players  Captains  Draft picks   + expansion draft  Seasons  Current season |\\\\n| History |  Records  Award winners  Broadcasters |\\\\n| Personnel | Owner(s)  True North Sports & Entertainment (Mark Chipman, chairman)  General manager  Kevin Cheveldayoff  Head coach  Scott Arniel  Team captain  Adam Lowry  Current roster | [...] the draft lottery, which they used to select Finnish prospect Patrik Laine. Later that summer, the team appointed Blake Wheeler as their new captain. [...] In the 2021–22 season, the Jets finished a disappointing sixth in the Central Division, missing the playoffs. At the start of the 2022–23 season, forward Blake Wheeler was stripped of the team captaincy. The Jets then clinched the 2023 playoffs at the end of the regular season, but were defeated by the eventual Stanley Cup champion Vegas Golden Knights in five games in the first round. Before the start of the 2023–24 season, forward Adam Lowry was appointed team captain. The Jets then clinched\", \"score\": 0.885404}, {\"title\": \"Adam Lowry named Jets captain | Winnipeg Jets - NHL.com\", \"url\": \"https://www.nhl.com/jets/news/adam-lowry-named-jets-captain\", \"content\": \"That honour was given to Winnipeg Jet forward Adam Lowry officially Tuesday morning as he becomes the third captain in franchise history since the team moved here from Atlanta. He follows Andrew Ladd and Blake Wheeler who served as captain for five and six years respectively.\\\\n\\\\nâ\\x80\\x9cWhen I found out, I was pretty excited, almost a little speechless. Itâ\\x80\\x99s something growing up you kind of can dream about and something that seems almost unattainable,â\\x80\\x9d said Lowry. [...] â\\x80\\x9cHeâ\\x80\\x99s a true professional, he has total respect from every player on the team, every player around the league and certainly from the coaching staff as well. We just feel at this point itâ\\x80\\x99s the right time to name Adam as our captain.â\\x80\\x9d [...] â\\x80\\x9cGetting to be a captain of a Canadian NHL team is pretty special and something Iâ\\x80\\x99m really looking forward too.â\\x80\\x9d\", \"score\": 0.8449346}, {\"title\": \"Lowry named Jets captain, replaces Wheeler | NHL.com\", \"url\": \"https://www.nhl.com/news/adam-lowry-named-winnipeg-captain\", \"content\": \"NHL logo\\\\nNHL logo\\\\n\\\\n# Lowry named Jets captain, replaces Wheeler\\\\n\\\\n30-year-old forward entering 10th season with Winnipeg\\\\n\\\\nLowry_Jets\\\\nLowry_Jets\\\\n\\\\nAdam Lowry was named captain of the Winnipeg Jets on Tuesday.\\\\n\\\\nThe 30-year-old forward was selected by the Jets in the third round (No. 67) of the 2011 NHL Draft and has played his entire nine-season NHL career with Winnipeg. [...] Lowry replaces Blake Wheeler, who was removed as captain Sept. 16, 2022, and signed with the New York Rangers after having his contract bought out this offseason. The Jets opted for three alternate captains last season; Lowry, forward Mark Scheifele and defenseman Josh Morrissey. Coach Rick Bowness said Scheifele and Morrissey will remain alternate captains. [...] Lowry said he\\'s learned from the captains he\\'s played with in Winnipeg, Wheeler and Andrew Ladd, and believes the important thing is staying true to the player he\\'s always been.\", \"score\": 0.8390101}, {\"title\": \"Progress report on Winnipeg Jets captain Adam Lowry who is ...\", \"url\": \"https://illegalcurve.com/progress-report-on-winnipeg-jets-captain-adam-lowry-who-is-almost-off-the-crutches/\", \"content\": \"Illegal Curve Hockey\\\\nIllegal Curve Hockey\\\\n\\\\n## Illegal Curve Hockey\\\\n\\\\n### Winnipeg Jets\\\\n\\\\n# Progress report on Winnipeg Jets captain Adam Lowry who is “almost off the crutches”\\\\n\\\\nLatest update from Jets GM Kevin Cheveldayoff on his captain.\\\\n\\\\nby [...] The Jets are getting ready for the 2025 NHL Draft this weekend which meant it was an opportunity to hear from Winnipeg GM Kevin Cheveldayoff who spoke for about 25 minutes this morning on a wide variety of topics including the health of team captain Adam Lowry. We learned late last month that Lowry had undergone successful hip surgery which would require 5-6 months of rehab and which was expected to cost him the first bit of the 2025-26 season.\\\\n\\\\nPhoto Credit: Colby Spence (Illegal Curve) [...] Copyright © 2025 Illegal Curve. Website designed by More Hot Leads\", \"score\": 0.8014549}, {\"title\": \"Jets sign Toews for leadership, add Nyquist, Pearson for depth\", \"url\": \"https://www.nhl.com/news/winnipeg-jets-roster-changes-for-2025-26-season\", \"content\": \"games for the Vegas Golden Knights. Pearson could find a role in Winnipeg\\'s middle six. The need there will be magnified. Jets captain and center Adam Lowry is expected to miss the start of the season after having hip surgery May 27, with a 5-6 month timeline for recovery.\", \"score\": 0.78014404}]', name='tavily_search_results_json', id='f3857448-6f8b-4e3b-9840-62e2650e84e4', tool_call_id='call_QxUBltF4s0KRmZ0xEx3l7TQT', artifact={'query': 'current captain of the Winnipeg Jets', 'follow_up_questions': None, 'answer': None, 'images': [], 'results': [{'url': 'https://en.wikipedia.org/wiki/Winnipeg_Jets', 'title': 'Winnipeg Jets - Wikipedia', 'content': '|  v  t  e  Winnipeg Jets | |\\n| --- | --- |\\n|  Formerly the Atlanta Thrashers  Founded in 1999  Based in Winnipeg, Manitoba | |\\n| Franchise |  Team  General managers  Coaches  Players  Captains  Draft picks   + expansion draft  Seasons  Current season |\\n| History |  Records  Award winners  Broadcasters |\\n| Personnel | Owner(s)  True North Sports & Entertainment (Mark Chipman, chairman)  General manager  Kevin Cheveldayoff  Head coach  Scott Arniel  Team captain  Adam Lowry  Current roster | [...] the draft lottery, which they used to select Finnish prospect Patrik Laine. Later that summer, the team appointed Blake Wheeler as their new captain. [...] In the 2021–22 season, the Jets finished a disappointing sixth in the Central Division, missing the playoffs. At the start of the 2022–23 season, forward Blake Wheeler was stripped of the team captaincy. The Jets then clinched the 2023 playoffs at the end of the regular season, but were defeated by the eventual Stanley Cup champion Vegas Golden Knights in five games in the first round. Before the start of the 2023–24 season, forward Adam Lowry was appointed team captain. The Jets then clinched', 'score': 0.885404, 'raw_content': None}, {'url': 'https://www.nhl.com/jets/news/adam-lowry-named-jets-captain', 'title': 'Adam Lowry named Jets captain | Winnipeg Jets - NHL.com', 'content': 'That honour was given to Winnipeg Jet forward Adam Lowry officially Tuesday morning as he becomes the third captain in franchise history since the team moved here from Atlanta. He follows Andrew Ladd and Blake Wheeler who served as captain for five and six years respectively.\\n\\nâ\\x80\\x9cWhen I found out, I was pretty excited, almost a little speechless. Itâ\\x80\\x99s something growing up you kind of can dream about and something that seems almost unattainable,â\\x80\\x9d said Lowry. [...] â\\x80\\x9cHeâ\\x80\\x99s a true professional, he has total respect from every player on the team, every player around the league and certainly from the coaching staff as well. We just feel at this point itâ\\x80\\x99s the right time to name Adam as our captain.â\\x80\\x9d [...] â\\x80\\x9cGetting to be a captain of a Canadian NHL team is pretty special and something Iâ\\x80\\x99m really looking forward too.â\\x80\\x9d', 'score': 0.8449346, 'raw_content': None}, {'url': 'https://www.nhl.com/news/adam-lowry-named-winnipeg-captain', 'title': 'Lowry named Jets captain, replaces Wheeler | NHL.com', 'content': \"NHL logo\\nNHL logo\\n\\n# Lowry named Jets captain, replaces Wheeler\\n\\n30-year-old forward entering 10th season with Winnipeg\\n\\nLowry_Jets\\nLowry_Jets\\n\\nAdam Lowry was named captain of the Winnipeg Jets on Tuesday.\\n\\nThe 30-year-old forward was selected by the Jets in the third round (No. 67) of the 2011 NHL Draft and has played his entire nine-season NHL career with Winnipeg. [...] Lowry replaces Blake Wheeler, who was removed as captain Sept. 16, 2022, and signed with the New York Rangers after having his contract bought out this offseason. The Jets opted for three alternate captains last season; Lowry, forward Mark Scheifele and defenseman Josh Morrissey. Coach Rick Bowness said Scheifele and Morrissey will remain alternate captains. [...] Lowry said he's learned from the captains he's played with in Winnipeg, Wheeler and Andrew Ladd, and believes the important thing is staying true to the player he's always been.\", 'score': 0.8390101, 'raw_content': None}, {'url': 'https://illegalcurve.com/progress-report-on-winnipeg-jets-captain-adam-lowry-who-is-almost-off-the-crutches/', 'title': 'Progress report on Winnipeg Jets captain Adam Lowry who is ...', 'content': 'Illegal Curve Hockey\\nIllegal Curve Hockey\\n\\n## Illegal Curve Hockey\\n\\n### Winnipeg Jets\\n\\n# Progress report on Winnipeg Jets captain Adam Lowry who is “almost off the crutches”\\n\\nLatest update from Jets GM Kevin Cheveldayoff on his captain.\\n\\nby [...] The Jets are getting ready for the 2025 NHL Draft this weekend which meant it was an opportunity to hear from Winnipeg GM Kevin Cheveldayoff who spoke for about 25 minutes this morning on a wide variety of topics including the health of team captain Adam Lowry. We learned late last month that Lowry had undergone successful hip surgery which would require 5-6 months of rehab and which was expected to cost him the first bit of the 2025-26 season.\\n\\nPhoto Credit: Colby Spence (Illegal Curve) [...] Copyright © 2025 Illegal Curve. Website designed by More Hot Leads', 'score': 0.8014549, 'raw_content': None}, {'url': 'https://www.nhl.com/news/winnipeg-jets-roster-changes-for-2025-26-season', 'title': 'Jets sign Toews for leadership, add Nyquist, Pearson for depth', 'content': \"games for the Vegas Golden Knights. Pearson could find a role in Winnipeg's middle six. The need there will be magnified. Jets captain and center Adam Lowry is expected to miss the start of the season after having hip surgery May 27, with a 5-6 month timeline for recovery.\", 'score': 0.78014404, 'raw_content': None}], 'response_time': 4.96})]\n",
            "\n",
            "\n",
            "\n",
            "Receiving update from node: 'agent'\n",
            "[AIMessage(content='The current captain of the Winnipeg Jets is Adam Lowry.', additional_kwargs={'refusal': None}, response_metadata={'token_usage': {'completion_tokens': 13, 'prompt_tokens': 1416, 'total_tokens': 1429, 'completion_tokens_details': {'accepted_prediction_tokens': 0, 'audio_tokens': 0, 'reasoning_tokens': 0, 'rejected_prediction_tokens': 0}, 'prompt_tokens_details': {'audio_tokens': 0, 'cached_tokens': 0}}, 'model_name': 'gpt-4.1-nano-2025-04-14', 'system_fingerprint': 'fp_38343a2f8f', 'id': 'chatcmpl-C3nhkrA6mWv46WJSORKXlY8bjMhe2', 'service_tier': 'default', 'finish_reason': 'stop', 'logprobs': None}, id='run--88bf38ff-cc72-4811-9ad4-12c96d9daf0f-0', usage_metadata={'input_tokens': 1416, 'output_tokens': 13, 'total_tokens': 1429, 'input_token_details': {'audio': 0, 'cache_read': 0}, 'output_token_details': {'audio': 0, 'reasoning': 0}})]\n",
            "\n",
            "\n",
            "\n"
          ]
        }
      ],
      "source": [
        "from langchain_core.messages import HumanMessage\n",
        "\n",
        "inputs = {\"messages\" : [HumanMessage(content=\"Who is the current captain of the Winnipeg Jets?\")]}\n",
        "\n",
        "async for chunk in simple_agent_graph.astream(inputs, stream_mode=\"updates\"):\n",
        "    for node, values in chunk.items():\n",
        "        print(f\"Receiving update from node: '{node}'\")\n",
        "        print(values[\"messages\"])\n",
        "        print(\"\\n\\n\")"
      ]
    },
    {
      "cell_type": "markdown",
      "metadata": {
        "id": "DBHnUtLSscRr"
      },
      "source": [
        "Let's look at what happened:\n",
        "\n",
        "1. Our state object was populated with our request\n",
        "2. The state object was passed into our entry point (agent node) and the agent node added an `AIMessage` to the state object and passed it along the conditional edge\n",
        "3. The conditional edge received the state object, found the \"tool_calls\" `additional_kwarg`, and sent the state object to the action node\n",
        "4. The action node added the response from the OpenAI function calling endpoint to the state object and passed it along the edge to the agent node\n",
        "5. The agent node added a response to the state object and passed it along the conditional edge\n",
        "6. The conditional edge received the state object, could not find the \"tool_calls\" `additional_kwarg` and passed the state object to END where we see it output in the cell above!\n",
        "\n",
        "Now let's look at an example that shows a multiple tool usage - all with the same flow!"
      ]
    },
    {
      "cell_type": "code",
      "execution_count": 17,
      "metadata": {
        "colab": {
          "base_uri": "https://localhost:8080/"
        },
        "id": "afv2BuEsV5JG",
        "outputId": "ff009536-d281-4a56-c126-9cd245352bfe"
      },
      "outputs": [
        {
          "name": "stdout",
          "output_type": "stream",
          "text": [
            "Receiving update from node: 'agent'\n",
            "[AIMessage(content='', additional_kwargs={'tool_calls': [{'id': 'call_ALhEoqL7Y960LIjc4p07snsI', 'function': {'arguments': '{\"query\": \"QLoRA\"}', 'name': 'arxiv'}, 'type': 'function'}, {'id': 'call_lW50W5Cy7siGxADrnZ9oFgqA', 'function': {'arguments': '{\"query\": \"latest Tweet of author\"}', 'name': 'tavily_search_results_json'}, 'type': 'function'}], 'refusal': None}, response_metadata={'token_usage': {'completion_tokens': 54, 'prompt_tokens': 178, 'total_tokens': 232, 'completion_tokens_details': {'accepted_prediction_tokens': 0, 'audio_tokens': 0, 'reasoning_tokens': 0, 'rejected_prediction_tokens': 0}, 'prompt_tokens_details': {'audio_tokens': 0, 'cached_tokens': 0}}, 'model_name': 'gpt-4.1-nano-2025-04-14', 'system_fingerprint': 'fp_38343a2f8f', 'id': 'chatcmpl-C3njsvfsiuVOtVeZarpHEuD7S0nqt', 'service_tier': 'default', 'finish_reason': 'tool_calls', 'logprobs': None}, id='run--a47190d8-6eb2-4455-b8c0-68106e493046-0', tool_calls=[{'name': 'arxiv', 'args': {'query': 'QLoRA'}, 'id': 'call_ALhEoqL7Y960LIjc4p07snsI', 'type': 'tool_call'}, {'name': 'tavily_search_results_json', 'args': {'query': 'latest Tweet of author'}, 'id': 'call_lW50W5Cy7siGxADrnZ9oFgqA', 'type': 'tool_call'}], usage_metadata={'input_tokens': 178, 'output_tokens': 54, 'total_tokens': 232, 'input_token_details': {'audio': 0, 'cache_read': 0}, 'output_token_details': {'audio': 0, 'reasoning': 0}})]\n",
            "\n",
            "\n",
            "\n",
            "Receiving update from node: 'action'\n",
            "Tool Used: arxiv\n",
            "[ToolMessage(content='Published: 2023-05-23\\nTitle: QLoRA: Efficient Finetuning of Quantized LLMs\\nAuthors: Tim Dettmers, Artidoro Pagnoni, Ari Holtzman, Luke Zettlemoyer\\nSummary: We present QLoRA, an efficient finetuning approach that reduces memory usage\\nenough to finetune a 65B parameter model on a single 48GB GPU while preserving\\nfull 16-bit finetuning task performance. QLoRA backpropagates gradients through\\na frozen, 4-bit quantized pretrained language model into Low Rank\\nAdapters~(LoRA). Our best model family, which we name Guanaco, outperforms all\\nprevious openly released models on the Vicuna benchmark, reaching 99.3% of the\\nperformance level of ChatGPT while only requiring 24 hours of finetuning on a\\nsingle GPU. QLoRA introduces a number of innovations to save memory without\\nsacrificing performance: (a) 4-bit NormalFloat (NF4), a new data type that is\\ninformation theoretically optimal for normally distributed weights (b) double\\nquantization to reduce the average memory footprint by quantizing the\\nquantization constants, and (c) paged optimziers to manage memory spikes. We\\nuse QLoRA to finetune more than 1,000 models, providing a detailed analysis of\\ninstruction following and chatbot performance across 8 instruction datasets,\\nmultiple model types (LLaMA, T5), and model scales that would be infeasible to\\nrun with regular finetuning (e.g. 33B and 65B parameter models). Our results\\nshow that QLoRA finetuning on a small high-quality dataset leads to\\nstate-of-the-art results, even when using smaller models than the previous\\nSoTA. We provide a detailed analysis of chatbot performance based on both human\\nand GPT-4 evaluations showing that GPT-4 evaluations are a cheap and reasonable\\nalternative to human evaluation. Furthermore, we find that current chatbot\\nbenchmarks are not trustworthy to accurately evaluate the performance levels of\\nchatbots. A lemon-picked analysis demonstrates where Guanaco fails compared to\\nChatGPT. We release all of our models and code, including CUDA kernels for\\n4-bit training.\\n\\nPublished: 2024-05-27\\nTitle: Accurate LoRA-Finetuning Quantization of LLMs via Information Retention\\nAuthors: Haotong Qin, Xudong Ma, Xingyu Zheng, Xiaoyang Li, Yang Zhang, Shouda Liu, Jie Luo, Xianglong Liu, Michele Magno\\nSummary: The LoRA-finetuning quantization of LLMs has been extensively studied to\\nobtain accurate yet compact LLMs for deployment on resource-constrained\\nhardware. However, existing methods cause the quantized LLM to severely degrade\\nand even fail to benefit from the finetuning of LoRA. This paper proposes a\\nnovel IR-QLoRA for pushing quantized LLMs with LoRA to be highly accurate\\nthrough information retention. The proposed IR-QLoRA mainly relies on two\\ntechnologies derived from the perspective of unified information: (1)\\nstatistics-based Information Calibration Quantization allows the quantized\\nparameters of LLM to retain original information accurately; (2)\\nfinetuning-based Information Elastic Connection makes LoRA utilizes elastic\\nrepresentation transformation with diverse information. Comprehensive\\nexperiments show that IR-QLoRA can significantly improve accuracy across LLaMA\\nand LLaMA2 families under 2-4 bit-widths, e.g., 4- bit LLaMA-7B achieves 1.4%\\nimprovement on MMLU compared with the state-of-the-art methods. The significant\\nperformance gain requires only a tiny 0.31% additional time consumption,\\nrevealing the satisfactory efficiency of our IR-QLoRA. We highlight that\\nIR-QLoRA enjoys excellent versatility, compatible with various frameworks\\n(e.g., NormalFloat and Integer quantization) and brings general accuracy gains.\\nThe code is available at https://github.com/htqin/ir-qlora.\\n\\nPublished: 2025-02-05\\nTitle: Resource-Efficient & Effective Code Summarization\\nAuthors: Saima Afrin, Joseph Call, Khai-Nguyen Nguyen, Oscar Chaparro, Antonio Mastropaolo\\nSummary: Code Language Models (CLMs) have demonstrated high effectiveness in\\nautomating software engineering tasks such as bug fixing, code generation, and\\ncode documentation. This ', name='arxiv', id='9bfd24ed-7088-4b51-9900-ec0fffeec2cc', tool_call_id='call_ALhEoqL7Y960LIjc4p07snsI'), ToolMessage(content='[{\"title\": \"Don Winslow (@donwinslow) / X\", \"url\": \"https://twitter.com/donwinslow\", \"content\": \"#1 bestselling author Author of 3 New York Times Critics Choice Best Books of the Year Find great books by following: @WinslowBookClub. All tweets are just\", \"score\": 0.9857}, {\"title\": \"How to decide your author name? : r/nanowrimo - Reddit\", \"url\": \"https://www.reddit.com/r/nanowrimo/comments/11pchhe/how_to_decide_your_author_name/\", \"content\": \"Abbreviations or names that allude to the author\\'s true name are the usual avenues but it\\'s not uncommon to pick something entirely different. I\", \"score\": 0.9856}, {\"title\": \"Twitter Advanced Search - how to search twitter by date and old tweets\", \"url\": \"https://www.tweetbinder.com/blog/twitter-advanced-search/\", \"content\": \"Use the live Twitter search tool below to analyze any hashtag, keyword, mention, or username. Instantly explore what\\'s being said on Twitter / X in real time.\", \"score\": 0.98512}, {\"title\": \"List of authors by name: A - Wikipedia\", \"url\": \"https://en.wikipedia.org/wiki/List_of_authors_by_name:_A\", \"content\": \"The following is a List of authors by name whose last names begin with A: Abbreviations: ch = children\\'s; d = drama, screenwriting; f = fiction; nf = non-\", \"score\": 0.98141}, {\"title\": \"How To Easily Search For Tweets By Date On X (Formerly Twitter)\", \"url\": \"https://www.searchenginejournal.com/search-tweets-by-date-twitter/450711/\", \"content\": \"Search for tweets by a specific date by scrolling all the way down to the bottom of the pop-over window. You\\'ll see fields, like in the image below, with\", \"score\": 0.98102}]', name='tavily_search_results_json', id='4da8103a-c8d1-43bf-8ff4-93f982581068', tool_call_id='call_lW50W5Cy7siGxADrnZ9oFgqA', artifact={'query': 'latest Tweet of author', 'follow_up_questions': None, 'answer': None, 'images': [], 'results': [{'url': 'https://twitter.com/donwinslow', 'title': 'Don Winslow (@donwinslow) / X', 'content': '#1 bestselling author Author of 3 New York Times Critics Choice Best Books of the Year Find great books by following: @WinslowBookClub. All tweets are just', 'score': 0.9857, 'raw_content': None}, {'url': 'https://www.reddit.com/r/nanowrimo/comments/11pchhe/how_to_decide_your_author_name/', 'title': 'How to decide your author name? : r/nanowrimo - Reddit', 'content': \"Abbreviations or names that allude to the author's true name are the usual avenues but it's not uncommon to pick something entirely different. I\", 'score': 0.9856, 'raw_content': None}, {'url': 'https://www.tweetbinder.com/blog/twitter-advanced-search/', 'title': 'Twitter Advanced Search - how to search twitter by date and old tweets', 'content': \"Use the live Twitter search tool below to analyze any hashtag, keyword, mention, or username. Instantly explore what's being said on Twitter / X in real time.\", 'score': 0.98512, 'raw_content': None}, {'url': 'https://en.wikipedia.org/wiki/List_of_authors_by_name:_A', 'title': 'List of authors by name: A - Wikipedia', 'content': \"The following is a List of authors by name whose last names begin with A: Abbreviations: ch = children's; d = drama, screenwriting; f = fiction; nf = non-\", 'score': 0.98141, 'raw_content': None}, {'url': 'https://www.searchenginejournal.com/search-tweets-by-date-twitter/450711/', 'title': 'How To Easily Search For Tweets By Date On X (Formerly Twitter)', 'content': \"Search for tweets by a specific date by scrolling all the way down to the bottom of the pop-over window. You'll see fields, like in the image below, with\", 'score': 0.98102, 'raw_content': None}], 'response_time': 7.65})]\n",
            "\n",
            "\n",
            "\n",
            "Receiving update from node: 'agent'\n",
            "[AIMessage(content='I found the QLoRA paper on Arxiv, titled \"QLoRA: Efficient Finetuning of Quantized LLMs,\" authored by Tim Dettmers, Artidoro Pagnoni, Ari Holtzman, and Luke Zettlemoyer. \\n\\nRegarding the authors\\' latest Tweets, I found some relevant results, but I need to identify the specific Twitter accounts of these authors to provide their latest Tweets. Would you like me to proceed with searching for their Twitter handles or any particular author?', additional_kwargs={'refusal': None}, response_metadata={'token_usage': {'completion_tokens': 104, 'prompt_tokens': 1620, 'total_tokens': 1724, 'completion_tokens_details': {'accepted_prediction_tokens': 0, 'audio_tokens': 0, 'reasoning_tokens': 0, 'rejected_prediction_tokens': 0}, 'prompt_tokens_details': {'audio_tokens': 0, 'cached_tokens': 0}}, 'model_name': 'gpt-4.1-nano-2025-04-14', 'system_fingerprint': 'fp_38343a2f8f', 'id': 'chatcmpl-C3nk1mIACjQ3zBrtl43zP2dGElxRB', 'service_tier': 'default', 'finish_reason': 'stop', 'logprobs': None}, id='run--ad6b39c4-f29c-437e-be54-ef5003261723-0', usage_metadata={'input_tokens': 1620, 'output_tokens': 104, 'total_tokens': 1724, 'input_token_details': {'audio': 0, 'cache_read': 0}, 'output_token_details': {'audio': 0, 'reasoning': 0}})]\n",
            "\n",
            "\n",
            "\n"
          ]
        }
      ],
      "source": [
        "inputs = {\"messages\" : [HumanMessage(content=\"Search Arxiv for the QLoRA paper, then search each of the authors to find out their latest Tweet using Tavily!\")]}\n",
        "\n",
        "async for chunk in simple_agent_graph.astream(inputs, stream_mode=\"updates\"):\n",
        "    for node, values in chunk.items():\n",
        "        print(f\"Receiving update from node: '{node}'\")\n",
        "        if node == \"action\":\n",
        "          print(f\"Tool Used: {values['messages'][0].name}\")\n",
        "        print(values[\"messages\"])\n",
        "\n",
        "        print(\"\\n\\n\")"
      ]
    },
    {
      "cell_type": "markdown",
      "metadata": {
        "id": "CXzDlZVz1Hnf"
      },
      "source": [
        "#### 🏗️ Activity #2:\n",
        "\n",
        "Please write out the steps the agent took to arrive at the correct answer.\n",
        "\n",
        "#### 🏗️ Answer:\n",
        "\n",
        "Simulation:\n",
        "\n",
        "1. Firstly, the state object was populated with the request and note that it was prompted with specific wordings as \"Search Arxiv\"\n",
        "2. Next, the state object then passed into the entry point of agent node and the agent node then added the message content to the state object and passed it along the conditional edge\n",
        "3. Next, the conditional edge received the state object, found the \"tool_calls\" and sent the state object next to the action node\n",
        "4. At this point, the action node processed the input query and due to the specific wordings inculded in the prompt message, it prioritized using Arxiv tool 'as told to do so' in evaluating a response and then added the response from the OpenAI function calling endpoint to the state object and passed it along the edge back to the agent node\n",
        "5. The agent node then added a response to the state object and passed it along the conditional edge\n",
        "6. The conditional edge received the state object, could not find the \"tool_calls\" and therefore passed the state object to the END node and terminated the process"
      ]
    },
    {
      "cell_type": "markdown",
      "metadata": {
        "id": "v7c8-Uyarh1v"
      },
      "source": [
        "# LangSmith Evaluator (Optional)"
      ]
    },
    {
      "cell_type": "markdown",
      "metadata": {
        "id": "pV3XeFOT1Sar"
      },
      "source": [
        "### Pre-processing for LangSmith"
      ]
    },
    {
      "cell_type": "markdown",
      "metadata": {
        "id": "wruQCuzewUuO"
      },
      "source": [
        "To do a little bit more preprocessing, let's wrap our LangGraph agent in a simple chain."
      ]
    },
    {
      "cell_type": "code",
      "execution_count": 18,
      "metadata": {
        "id": "oeXdQgbxwhTv"
      },
      "outputs": [],
      "source": [
        "def convert_inputs(input_object):\n",
        "  return {\"messages\" : [HumanMessage(content=input_object[\"question\"])]}\n",
        "\n",
        "def parse_output(input_state):\n",
        "  return input_state[\"messages\"][-1].content\n",
        "\n",
        "agent_chain_with_formatting = convert_inputs | simple_agent_graph | parse_output"
      ]
    },
    {
      "cell_type": "code",
      "execution_count": 19,
      "metadata": {
        "colab": {
          "base_uri": "https://localhost:8080/",
          "height": 105
        },
        "id": "orYxBZXSxJjZ",
        "outputId": "76be837b-6424-4516-8f63-07fbd8c25bf5"
      },
      "outputs": [
        {
          "data": {
            "text/plain": [
              "\"RAG can refer to different concepts depending on the context. Could you please specify whether you're asking about RAG in the context of project management, machine learning, or another field?\""
            ]
          },
          "execution_count": 19,
          "metadata": {},
          "output_type": "execute_result"
        }
      ],
      "source": [
        "agent_chain_with_formatting.invoke({\"question\" : \"What is RAG?\"})"
      ]
    },
    {
      "cell_type": "markdown",
      "metadata": {
        "id": "f9UkCIqkpyZu"
      },
      "source": [
        "### Task 1: Creating An Evaluation Dataset\n",
        "\n",
        "Just as we saw last week, we'll want to create a dataset to test our Agent's ability to answer questions.\n",
        "\n",
        "In order to do this - we'll want to provide some questions and some answers. Let's look at how we can create such a dataset below.\n",
        "\n",
        "```python\n",
        "questions = [\n",
        "    \"What optimizer is used in QLoRA?\",\n",
        "    \"What data type was created in the QLoRA paper?\",\n",
        "    \"What is a Retrieval Augmented Generation system?\",\n",
        "    \"Who authored the QLoRA paper?\",\n",
        "    \"What is the most popular deep learning framework?\",\n",
        "    \"What significant improvements does the LoRA system make?\"\n",
        "]\n",
        "\n",
        "answers = [\n",
        "    {\"must_mention\" : [\"paged\", \"optimizer\"]},\n",
        "    {\"must_mention\" : [\"NF4\", \"NormalFloat\"]},\n",
        "    {\"must_mention\" : [\"ground\", \"context\"]},\n",
        "    {\"must_mention\" : [\"Tim\", \"Dettmers\"]},\n",
        "    {\"must_mention\" : [\"PyTorch\", \"TensorFlow\"]},\n",
        "    {\"must_mention\" : [\"reduce\", \"parameters\"]},\n",
        "]\n",
        "```"
      ]
    },
    {
      "cell_type": "markdown",
      "metadata": {
        "id": "VfMXF2KAsQxs"
      },
      "source": [
        "#### 🏗️ Activity #3:\n",
        "\n",
        "Please create a dataset in the above format with at least 5 questions."
      ]
    },
    {
      "cell_type": "code",
      "execution_count": 20,
      "metadata": {
        "id": "CbagRuJop83E"
      },
      "outputs": [],
      "source": [
        "questions = [\n",
        "    \"What optimizer is used in QLoRA?\",\n",
        "    \"What data type was created in the QLoRA paper?\",\n",
        "    \"What is a Retrieval Augmented Generation system?\",\n",
        "    \"Who authored the QLoRA paper?\",\n",
        "    \"What is the most popular deep learning framework?\",\n",
        "    \"What significant improvements does the LoRA system make?\"\n",
        "]\n",
        "\n",
        "answers = [\n",
        "    {\"must_mention\" : [\"paged\", \"optimizer\"]},\n",
        "    {\"must_mention\" : [\"NF4\", \"NormalFloat\"]},\n",
        "    {\"must_mention\" : [\"ground\", \"context\"]},\n",
        "    {\"must_mention\" : [\"Tim\", \"Dettmers\"]},\n",
        "    {\"must_mention\" : [\"PyTorch\", \"TensorFlow\"]},\n",
        "    {\"must_mention\" : [\"reduce\", \"parameters\"]},\n",
        "]"
      ]
    },
    {
      "cell_type": "markdown",
      "metadata": {
        "id": "z7QVFuAmsh7L"
      },
      "source": [
        "Now we can add our dataset to our LangSmith project using the following code which we saw last Thursday!"
      ]
    },
    {
      "cell_type": "code",
      "execution_count": 21,
      "metadata": {
        "id": "RLfrZrgSsn85"
      },
      "outputs": [
        {
          "data": {
            "text/plain": [
              "{'example_ids': ['a0c96989-69ba-4217-9f33-0fe888f53953',\n",
              "  'ec16ed76-7cea-4757-aaef-123feae77d86',\n",
              "  'cb8ab1f0-cb60-421d-9bc9-5b699e1dda56',\n",
              "  '7d354db4-1c79-49dd-8d87-884104b48463',\n",
              "  'dfc63e16-3892-40f2-8914-335d5c6291ac',\n",
              "  'e5a423b1-9932-44a3-90af-c59e81fdabeb'],\n",
              " 'count': 6}"
            ]
          },
          "execution_count": 21,
          "metadata": {},
          "output_type": "execute_result"
        }
      ],
      "source": [
        "from langsmith import Client\n",
        "\n",
        "client = Client()\n",
        "\n",
        "dataset_name = f\"Retrieval Augmented Generation - Evaluation Dataset - {uuid4().hex[0:8]}\"\n",
        "\n",
        "dataset = client.create_dataset(\n",
        "    dataset_name=dataset_name,\n",
        "    description=\"Questions about the QLoRA Paper to Evaluate RAG over the same paper.\"\n",
        ")\n",
        "\n",
        "client.create_examples(\n",
        "    inputs=[{\"question\" : q} for q in questions],\n",
        "    outputs=answers,\n",
        "    dataset_id=dataset.id,\n",
        ")"
      ]
    },
    {
      "cell_type": "markdown",
      "metadata": {
        "id": "ciV73F9Q04w0"
      },
      "source": [
        "#### ❓ Question #3:\n",
        "\n",
        "How are the correct answers associated with the questions?\n",
        "\n",
        "> NOTE: Feel free to indicate if this is problematic or not\n",
        "\n",
        "#### ❓ Answer:\n",
        "\n",
        "In the given dataset, the correct answers are in a way, helpful because they are very easy to check automatically — a model passes if all required words appear.\n",
        "It also forces coverage of key terms that are considered essential and avoids long, subjective grading.\n",
        "\n",
        "However, it would somehow be problematic since:\n",
        "\n",
        "- Brittle to wording — the model might give a perfectly correct answer but fail if it uses synonyms (except for the specific question about an author where a name was given).\n",
        "\n",
        "    Example: \"minimize parameter count\" wouldn’t pass \"reduce\" check.\n",
        "\n",
        "- No order or meaning enforcement — a model could list the terms without actually answering correctly.\n",
        "\n",
        "    Example: \"Paged optimizer NF4 PyTorch TensorFlow\" would pass some checks but be nonsense.\n",
        "\n",
        "- Ambiguity — If “paged” is mentioned in another context (“paged memory”) unrelated to QLoRA, it would still pass.\n",
        "\n",
        "- Case-sensitivity isn’t an issue if you lowercase, but misspellings (if any) would still break it."
      ]
    },
    {
      "cell_type": "markdown",
      "metadata": {
        "id": "-lRTXUrTtP9Y"
      },
      "source": [
        "### Task 2: Adding Evaluators\n",
        "\n",
        "Now we can add a custom evaluator to see if our responses contain the expected information.\n",
        "\n",
        "We'll be using a fairly naive exact-match process to determine if our response contains specific strings."
      ]
    },
    {
      "cell_type": "code",
      "execution_count": 22,
      "metadata": {
        "id": "QrAUXMFftlAY"
      },
      "outputs": [],
      "source": [
        "from langsmith.evaluation import EvaluationResult, run_evaluator\n",
        "\n",
        "@run_evaluator\n",
        "def must_mention(run, example) -> EvaluationResult:\n",
        "    prediction = run.outputs.get(\"output\") or \"\"\n",
        "    required = example.outputs.get(\"must_mention\") or []\n",
        "    score = all(phrase in prediction for phrase in required)\n",
        "    return EvaluationResult(key=\"must_mention\", score=score)"
      ]
    },
    {
      "cell_type": "markdown",
      "metadata": {
        "id": "PNtHORUh0jZY"
      },
      "source": [
        "#### ❓ Question #4:\n",
        "\n",
        "What are some ways you could improve this metric as-is?\n",
        "\n",
        "> NOTE: Alternatively you can suggest where gaps exist in this method.\n",
        "\n",
        "#### ❓ Answer:\n",
        "\n",
        "As method of evaluation used is just a pass or fail method on a scaling basis of 0 or 1, that is, it tries if every phrase in required keywords appears exactly as a substring in prediction, the following are the possible limitations:\n",
        "\n",
        "- Binary output — score is not a “grade”, it’s just pass or fail. Even if 1 out of 2 terms is found, score will still be False.\n",
        "\n",
        "- Case-sensitive — \"Paged\" won’t match \"paged\" unless you both are in lowercase.\n",
        "\n",
        "- Substring match — \"paged\" will match \"paged_memory\", \"NF4\" will match \"NF4Quant\", even if the term is in an irrelevant context.\n",
        "\n",
        "- No partial credit — You can’t see how many terms were correct; it’s just True or False.\n",
        "\n",
        "Some of the ways to improve the metric could be the following:\n",
        "\n",
        "- Use case-insensitive matching\n",
        "- Use fuzzy matching for morphological variants, that is, to match 'reduce' against 'reducing' or 'reduced'\n",
        "- Use semantic similarity\n",
        "- Use per-term scoring. Instead of all-or-nothing, store how many required terms were found to allow partial credit and better insight into where the model failed."
      ]
    },
    {
      "cell_type": "markdown",
      "metadata": {
        "id": "r1RJr349zhv7"
      },
      "source": [
        "Task 3: Evaluating\n",
        "\n",
        "All that is left to do is evaluate our agent's response!"
      ]
    },
    {
      "cell_type": "code",
      "execution_count": 23,
      "metadata": {
        "colab": {
          "base_uri": "https://localhost:8080/",
          "height": 118,
          "referenced_widgets": [
            "efcf57067cf743d8b4ce059a61cbe02e",
            "53e33aae3b97490c82aec7bbb0d6ebba",
            "ad84e0e971d3455db2efe7dd0d1f803e",
            "72adef9b70dd48198b7322b6c5b113cf",
            "8a61d045ffd44ac58f3f13eb10044836",
            "041e22a9b5514e36bd4d1dac01d5d398",
            "886d762f2a7c421382efb5502c6d42a1",
            "ab91fd625bbd43afbf8c6398193a88d0",
            "716557ad09874dcb989d75f7c74424cd",
            "77d4c0ebaae045b58efc4f789c9a2360",
            "0d622ccc56264fac8fd7508dbdbe6e29"
          ]
        },
        "id": "p5TeCUUkuGld",
        "outputId": "2f7d62a2-e78d-447a-d07b-f9e4d500fb79"
      },
      "outputs": [
        {
          "name": "stdout",
          "output_type": "stream",
          "text": [
            "View the evaluation results for experiment: 'Search Pipeline - Evaluation - 48f3-b8becc68' at:\n",
            "https://smith.langchain.com/o/92af5c49-0a9e-4f85-beea-085fbd240cd1/datasets/7f794e6f-c88a-4e79-a874-29d310b983b4/compare?selectedSessions=2c099bcb-6078-4b19-99fc-ec059527c64c\n",
            "\n",
            "\n"
          ]
        },
        {
          "data": {
            "application/vnd.jupyter.widget-view+json": {
              "model_id": "bdc4707387a04f33b244cc2e454e02da",
              "version_major": 2,
              "version_minor": 0
            },
            "text/plain": [
              "0it [00:00, ?it/s]"
            ]
          },
          "metadata": {},
          "output_type": "display_data"
        }
      ],
      "source": [
        "experiment_results = client.evaluate(\n",
        "    agent_chain_with_formatting,\n",
        "    data=dataset_name,\n",
        "    evaluators=[must_mention],\n",
        "    experiment_prefix=f\"Search Pipeline - Evaluation - {uuid4().hex[0:4]}\",\n",
        "    metadata={\"version\": \"1.0.0\"},\n",
        ")"
      ]
    },
    {
      "cell_type": "code",
      "execution_count": 24,
      "metadata": {
        "colab": {
          "base_uri": "https://localhost:8080/",
          "height": 342
        },
        "id": "eeEqU7s05Byu",
        "outputId": "78395075-a05d-4ebd-c798-ed968b935318"
      },
      "outputs": [
        {
          "name": "stdout",
          "output_type": "stream",
          "text": [
            "<ExperimentResults Search Pipeline - Evaluation - 48f3-b8becc68>\n"
          ]
        }
      ],
      "source": [
        "print(experiment_results)"
      ]
    },
    {
      "cell_type": "markdown",
      "metadata": {
        "id": "jhTNe4kWrplB"
      },
      "source": [
        "## Part 2: LangGraph with Helpfulness:"
      ]
    },
    {
      "cell_type": "markdown",
      "metadata": {
        "id": "w1wKRddbIY_S"
      },
      "source": [
        "### Task 3: Adding Helpfulness Check and \"Loop\" Limits\n",
        "\n",
        "Now that we've done evaluation - let's see if we can add an extra step where we review the content we've generated to confirm if it fully answers the user's query!\n",
        "\n",
        "We're going to make a few key adjustments to account for this:\n",
        "\n",
        "1. We're going to add an artificial limit on how many \"loops\" the agent can go through - this will help us to avoid the potential situation where we never exit the loop.\n",
        "2. We'll add to our existing conditional edge to obtain the behaviour we desire."
      ]
    },
    {
      "cell_type": "markdown",
      "metadata": {
        "id": "npTYJ8ayR5B3"
      },
      "source": [
        "First, let's define our state again - we can check the length of the state object, so we don't need additional state for this."
      ]
    },
    {
      "cell_type": "code",
      "execution_count": 27,
      "metadata": {
        "id": "-LQ84YhyJG0w"
      },
      "outputs": [],
      "source": [
        "class AgentState(TypedDict):\n",
        "  messages: Annotated[list, add_messages]"
      ]
    },
    {
      "cell_type": "markdown",
      "metadata": {
        "id": "sD7EV0HqSQcb"
      },
      "source": [
        "Now we can set our graph up! This process will be almost entirely the same - with the inclusion of one additional node/conditional edge!"
      ]
    },
    {
      "cell_type": "markdown",
      "metadata": {
        "id": "oajBwLkFVi1N"
      },
      "source": [
        "#### 🏗️ Activity #5:\n",
        "\n",
        "Please write markdown for the following cells to explain what each is doing."
      ]
    },
    {
      "cell_type": "markdown",
      "metadata": {
        "id": "M6rN7feNVn9f"
      },
      "source": [
        "##### YOUR MARKDOWN HERE\n",
        "\n",
        "Agent state tracking with messages\n",
        "\n",
        "All messages between the LLM and tools are stored in a shared AgentState.\n",
        "\n",
        "add_messages ensures that each node’s output is appended to messages automatically.\n",
        "\n",
        "This allows tool_call_or_helpful to see both the original user query and the latest model response."
      ]
    },
    {
      "cell_type": "code",
      "execution_count": 28,
      "metadata": {
        "colab": {
          "base_uri": "https://localhost:8080/"
        },
        "id": "6r6XXA5FJbVf",
        "outputId": "ff713041-e498-4f0f-a875-a03502b87729"
      },
      "outputs": [
        {
          "data": {
            "text/plain": [
              "<langgraph.graph.state.StateGraph at 0x24a2a56d810>"
            ]
          },
          "execution_count": 28,
          "metadata": {},
          "output_type": "execute_result"
        }
      ],
      "source": [
        "graph_with_helpfulness_check = StateGraph(AgentState)\n",
        "\n",
        "graph_with_helpfulness_check.add_node(\"agent\", call_model)\n",
        "graph_with_helpfulness_check.add_node(\"action\", tool_node)"
      ]
    },
    {
      "cell_type": "markdown",
      "metadata": {
        "id": "XZ22o2mWVrfp"
      },
      "source": [
        "##### YOUR MARKDOWN HERE\n",
        "\n",
        "Next, this is where entrypoint is added. All this entrypoint does is indicate which node is called first."
      ]
    },
    {
      "cell_type": "code",
      "execution_count": 29,
      "metadata": {
        "colab": {
          "base_uri": "https://localhost:8080/"
        },
        "id": "HNWHwWxuRiLY",
        "outputId": "295f5a35-ceff-452a-ffb8-c52eada6a816"
      },
      "outputs": [
        {
          "data": {
            "text/plain": [
              "<langgraph.graph.state.StateGraph at 0x24a2a56d810>"
            ]
          },
          "execution_count": 29,
          "metadata": {},
          "output_type": "execute_result"
        }
      ],
      "source": [
        "graph_with_helpfulness_check.set_entry_point(\"agent\")"
      ]
    },
    {
      "cell_type": "markdown",
      "metadata": {
        "id": "rsXeF6xlaXOZ"
      },
      "source": [
        "##### YOUR MARKDOWN HERE\n",
        "\n",
        "Helpfulness check before continuing\n",
        "\n",
        "After the \"agent\" node runs, the tool_call_or_helpful is called.\n",
        "\n",
        "If the LLM’s last message contains a tool call → route to \"action\".\n",
        "\n",
        "Otherwise, run a separate mini-evaluator (GPT-4.1-mini) to decide if the latest answer is good enough.\n",
        "\n",
        "If \"Y\" → stop (route to \"end\").\n",
        "\n",
        "If \"N\" → keep going (loop back to \"agent\").\n",
        "\n",
        "There is also loop control - Safety stop: prevents infinite loops by capping the conversation length at 10 messages.\n",
        "\n"
      ]
    },
    {
      "cell_type": "code",
      "execution_count": 30,
      "metadata": {
        "id": "z_Sq3A9SaV1O"
      },
      "outputs": [],
      "source": [
        "from langchain_core.prompts import PromptTemplate\n",
        "from langchain_core.output_parsers import StrOutputParser\n",
        "\n",
        "def tool_call_or_helpful(state):\n",
        "  last_message = state[\"messages\"][-1]\n",
        "\n",
        "  if last_message.tool_calls:\n",
        "    return \"action\"\n",
        "\n",
        "  initial_query = state[\"messages\"][0]\n",
        "  final_response = state[\"messages\"][-1]\n",
        "\n",
        "  if len(state[\"messages\"]) > 10:\n",
        "    return \"END\"\n",
        "\n",
        "  prompt_template = \"\"\"\\\n",
        "  Given an initial query and a final response, determine if the final response is extremely helpful or not. Please indicate helpfulness with a 'Y' and unhelpfulness as an 'N'.\n",
        "\n",
        "  Initial Query:\n",
        "  {initial_query}\n",
        "\n",
        "  Final Response:\n",
        "  {final_response}\"\"\"\n",
        "\n",
        "  helpfullness_prompt_template = PromptTemplate.from_template(prompt_template)\n",
        "\n",
        "  helpfulness_check_model = ChatOpenAI(model=\"gpt-4.1-mini\")\n",
        "\n",
        "  helpfulness_chain = helpfullness_prompt_template | helpfulness_check_model | StrOutputParser()\n",
        "\n",
        "  helpfulness_response = helpfulness_chain.invoke({\"initial_query\" : initial_query.content, \"final_response\" : final_response.content})\n",
        "\n",
        "  if \"Y\" in helpfulness_response:\n",
        "    return \"end\"\n",
        "  else:\n",
        "    return \"continue\""
      ]
    },
    {
      "cell_type": "markdown",
      "metadata": {
        "id": "Fz1u9Vf4SHxJ"
      },
      "source": [
        "#### 🏗️ Activity #4:\n",
        "\n",
        "Please write what is happening in our `tool_call_or_helpful` function!"
      ]
    },
    {
      "cell_type": "markdown",
      "metadata": {
        "id": "6BhnBW2YVsJO"
      },
      "source": [
        "##### YOUR MARKDOWN HERE\n",
        "\n",
        "Conditional routing in LangGraph\n",
        "\n",
        "\"agent\" node doesn’t always go to the same next step — the flow changes depending on the helpfulness check or presence of tool calls.\n",
        "\n",
        "\"action\" runs tools, \"agent\" continues reasoning, \"end\" stops execution."
      ]
    },
    {
      "cell_type": "code",
      "execution_count": 31,
      "metadata": {
        "colab": {
          "base_uri": "https://localhost:8080/"
        },
        "id": "aVTKnWMbP_8T",
        "outputId": "7f729b1f-311c-4084-ceaf-0da437900c85"
      },
      "outputs": [
        {
          "data": {
            "text/plain": [
              "<langgraph.graph.state.StateGraph at 0x24a2a56d810>"
            ]
          },
          "execution_count": 31,
          "metadata": {},
          "output_type": "execute_result"
        }
      ],
      "source": [
        "graph_with_helpfulness_check.add_conditional_edges(\"agent\", tool_call_or_helpful,\n",
        "    {\n",
        "        \"continue\" : \"agent\",\n",
        "        \"action\" : \"action\",\n",
        "        \"end\" : END\n",
        "    }\n",
        ")"
      ]
    },
    {
      "cell_type": "markdown",
      "metadata": {
        "id": "ZGDLEWOIVtK0"
      },
      "source": [
        "##### YOUR MARKDOWN HERE\n",
        "\n",
        "Last edge is added. This will connect our action node to our agent node. This is because we *always* want our action node (which is used to call our tools) to return its output to our agent!"
      ]
    },
    {
      "cell_type": "code",
      "execution_count": 34,
      "metadata": {
        "colab": {
          "base_uri": "https://localhost:8080/"
        },
        "id": "cbDK2MbuREgU",
        "outputId": "21a64c20-27a1-4e0e-afde-a639abaa8b55"
      },
      "outputs": [
        {
          "name": "stderr",
          "output_type": "stream",
          "text": [
            "Adding an edge to a graph that has already been compiled. This will not be reflected in the compiled graph.\n"
          ]
        },
        {
          "data": {
            "text/plain": [
              "<langgraph.graph.state.StateGraph at 0x24a2a56d810>"
            ]
          },
          "execution_count": 34,
          "metadata": {},
          "output_type": "execute_result"
        }
      ],
      "source": [
        "graph_with_helpfulness_check.add_edge(\"action\", \"agent\")"
      ]
    },
    {
      "cell_type": "markdown",
      "metadata": {
        "id": "rSI8AOaEVvT-"
      },
      "source": [
        "##### YOUR MARKDOWN HERE\n",
        "\n",
        "This is compiling the workflow."
      ]
    },
    {
      "cell_type": "code",
      "execution_count": 35,
      "metadata": {
        "id": "oQldl8ERQ8lf"
      },
      "outputs": [],
      "source": [
        "agent_with_helpfulness_check = graph_with_helpfulness_check.compile()"
      ]
    },
    {
      "cell_type": "markdown",
      "metadata": {
        "id": "F67FGCMRVwGz"
      },
      "source": [
        "##### YOUR MARKDOWN HERE\n",
        "\n",
        "Streaming updates\n",
        "\n",
        "You can see real-time updates from each node, making debugging easier.\n",
        "\n"
      ]
    },
    {
      "cell_type": "code",
      "execution_count": 36,
      "metadata": {
        "colab": {
          "base_uri": "https://localhost:8080/"
        },
        "id": "B3oo8E-PRK1T",
        "outputId": "f152dea8-96ad-4d29-d8b2-a064c96a8bd3"
      },
      "outputs": [
        {
          "name": "stdout",
          "output_type": "stream",
          "text": [
            "Receiving update from node: 'agent'\n",
            "[AIMessage(content='', additional_kwargs={'tool_calls': [{'id': 'call_bA9U5CpotjnIr9m86imXawf0', 'function': {'arguments': '{\"query\": \"LoRA machine learning\"}', 'name': 'tavily_search_results_json'}, 'type': 'function'}, {'id': 'call_UyszJy0WnmL9pPTrUBnrjhMj', 'function': {'arguments': '{\"query\": \"Tim Dettmers\"}', 'name': 'tavily_search_results_json'}, 'type': 'function'}, {'id': 'call_LLpl1eQpizcn8Yg6KteQrs55', 'function': {'arguments': '{\"query\": \"Attention in machine learning\"}', 'name': 'tavily_search_results_json'}, 'type': 'function'}], 'refusal': None}, response_metadata={'token_usage': {'completion_tokens': 79, 'prompt_tokens': 177, 'total_tokens': 256, 'completion_tokens_details': {'accepted_prediction_tokens': 0, 'audio_tokens': 0, 'reasoning_tokens': 0, 'rejected_prediction_tokens': 0}, 'prompt_tokens_details': {'audio_tokens': 0, 'cached_tokens': 0}}, 'model_name': 'gpt-4.1-nano-2025-04-14', 'system_fingerprint': 'fp_38343a2f8f', 'id': 'chatcmpl-C3pVCloTN0ipRoBx7qvQsuKXJqceI', 'service_tier': 'default', 'finish_reason': 'tool_calls', 'logprobs': None}, id='run--a2489312-e7e2-4560-90ca-3f2240f3b9cc-0', tool_calls=[{'name': 'tavily_search_results_json', 'args': {'query': 'LoRA machine learning'}, 'id': 'call_bA9U5CpotjnIr9m86imXawf0', 'type': 'tool_call'}, {'name': 'tavily_search_results_json', 'args': {'query': 'Tim Dettmers'}, 'id': 'call_UyszJy0WnmL9pPTrUBnrjhMj', 'type': 'tool_call'}, {'name': 'tavily_search_results_json', 'args': {'query': 'Attention in machine learning'}, 'id': 'call_LLpl1eQpizcn8Yg6KteQrs55', 'type': 'tool_call'}], usage_metadata={'input_tokens': 177, 'output_tokens': 79, 'total_tokens': 256, 'input_token_details': {'audio': 0, 'cache_read': 0}, 'output_token_details': {'audio': 0, 'reasoning': 0}})]\n",
            "\n",
            "\n",
            "\n",
            "Receiving update from node: 'action'\n",
            "[ToolMessage(content='[{\"title\": \"What is LoRA? | Low-rank adaptation | Cloudflare\", \"url\": \"https://www.cloudflare.com/learning/ai/what-is-lora/\", \"content\": \"Low-rank adaptation (LoRA) is a technique for quickly adapting machine learning models to new contexts. LoRA helps make huge and complicated machine learning models much more suited for specific uses. It works by adding lightweight pieces to the original model, as opposed to changing the entire model. LoRA helps developers quickly expand the use cases for the machine learning models they build.\\\\n\\\\n## What does LoRA do? [...] LoRA adds low-rank matrices to the frozen original machine learning model. These matrices contain new weights to apply to the model when generating results. This process alters the outputs that the model produces with minimal computing power and training time.\\\\n\\\\nIn the analogy used above, Jim bought cheap adapters to plug his appliances into the wall. Low-rank matrices are like those cheap adapters, with the outlets being the original machine learning models.\\\\n\\\\n## How does machine learning work? [...] Sign upSales: +1 (888) 99 FLARE\\\\n\\\\n# What is low-rank adaptation (LoRA)?\\\\n\\\\nLow-rank adaptation (LoRA) is a way to adapt a large machine learning model for specific uses without retraining the entire model.\\\\n\\\\n#### Learning Objectives\\\\n\\\\nAfter reading this article you will be able to:\\\\n\\\\n Define \\\\\"low-rank adaptation\\\\\" (LoRA)\\\\n Explain in simple fashion how LoRA works\\\\n Understand the advantages of using LoRA\\\\n\\\\nRelated Content\\\\n\\\\n---\", \"score\": 0.9247491}, {\"title\": \"Improving LoRA: Implementing Weight-Decomposed Low-Rank ...\", \"url\": \"https://magazine.sebastianraschka.com/p/lora-and-dora-from-scratch\", \"content\": \"Image 7 Image 8: Ahead of AI Ahead of AI Improving LoRA: Implementing Weight-Decomposed Low-Rank Adaptation (DoRA) from Scratch\\\\n\\\\nCopy link\\\\n\\\\nFacebook\\\\n\\\\nEmail\\\\n\\\\nNotes\\\\n\\\\nMore\\\\n\\\\n46\\\\n\\\\n17\\\\n\\\\nShare)\\\\n\\\\nLow-rank adaptation (LoRA) is a machine learning technique that modifies a pretrained model (for example, an LLM or vision transformer) to better suit a specific, often smaller, dataset by adjusting only a small, low-rank subset of the model\\'s parameters.\", \"score\": 0.91671574}, {\"title\": \"LoRA Under the Hood: How it Really Works in Visual Generative AI ...\", \"url\": \"https://medium.com/@efrat_37973/lora-under-the-hood-how-it-really-works-in-visual-generative-ai-e6c10611b461\", \"content\": \"LoRA, short for Low-Rank Adaptation, is a fine-tuning technique designed to modify the behavior of pre-trained models with minimal computational overhead. It operates on the principle of low-rank matrix decomposition, a mathematical approach to approximate large matrices with smaller, more manageable ones. [...] In the context of Visual Generative AI, LoRA plays a pivotal role in fine-tuning large pre-trained models, such as diffusion or transformer-based architectures, for tasks like image synthesis, style transfer, or domain-specific adaptations. LoRA enables these models to learn task-specific adjustments by training only a small amount of parameters.\\\\n\\\\nImage 4 [...] Instead of recalibrating the entire model, LoRA usually injects low-rank matrices into the attention layers. This approach preserves the original pre-trained weights while allowing the network to adapt efficiently to new visual styles, datasets, or tasks. The low-rank decomposition reduces the computational cost and memory usage, making it particularly useful for adapting large models to resource-constrained environments or quickly prototyping domain-specific visual applications.\", \"score\": 0.8965509}, {\"title\": \"LoRA - Hugging Face\", \"url\": \"https://huggingface.co/docs/diffusers/main/en/training/lora\", \"content\": \"LoRA (Low-Rank Adaptation of Large Language Models) is a popular and lightweight training technique that significantly reduces the number of trainable parameters. It works by inserting a smaller number of new weights into the model and only these are trained. This makes training with LoRA much faster, memory-efficient, and produces smaller model weights (a few hundred MBs), which are easier to store and share. LoRA can also be combined with other training techniques like DreamBooth to speedup\", \"score\": 0.88822687}, {\"title\": \"What is LoRA (Low-Rank Adaption)?\", \"url\": \"https://www.ibm.com/think/topics/lora\", \"content\": \"LoRA adds low-rank matrices to the frozen original machine learning model. The low-rank matrices are updated through gradient descent during fine-tuning, without modifying the weights of the base model. These matrices contain new weights to apply to the model when generating results. The multiplied change matrix is added to the base model weights to get the final fine-tuned model. This process alters the outputs that the model produces with minimal computing power and training time. [...] is a technique used to adapt machine learning models to new contexts. It can adapt large models to specific uses by adding lightweight pieces to the original model rather than changing the entire model. A data scientist can quickly expand the ways that a model can be used rather than requiring them to build an entirely new model. [...] LoRA leverages the concept of lower-rank matrices to make the model training process extremely efficient and fast. Traditionally fine-tuning LLMs requires adjusting the entire model. LoRA focuses on modifying a smaller subset of parameters (lower-rank matrices) to reduce computational and memory overhead.\", \"score\": 0.8863518}]', name='tavily_search_results_json', id='43b87bb1-792b-4a61-914a-bdd540fd6523', tool_call_id='call_bA9U5CpotjnIr9m86imXawf0', artifact={'query': 'LoRA machine learning', 'follow_up_questions': None, 'answer': None, 'images': [], 'results': [{'url': 'https://www.cloudflare.com/learning/ai/what-is-lora/', 'title': 'What is LoRA? | Low-rank adaptation | Cloudflare', 'content': 'Low-rank adaptation (LoRA) is a technique for quickly adapting machine learning models to new contexts. LoRA helps make huge and complicated machine learning models much more suited for specific uses. It works by adding lightweight pieces to the original model, as opposed to changing the entire model. LoRA helps developers quickly expand the use cases for the machine learning models they build.\\n\\n## What does LoRA do? [...] LoRA adds low-rank matrices to the frozen original machine learning model. These matrices contain new weights to apply to the model when generating results. This process alters the outputs that the model produces with minimal computing power and training time.\\n\\nIn the analogy used above, Jim bought cheap adapters to plug his appliances into the wall. Low-rank matrices are like those cheap adapters, with the outlets being the original machine learning models.\\n\\n## How does machine learning work? [...] Sign upSales: +1 (888) 99 FLARE\\n\\n# What is low-rank adaptation (LoRA)?\\n\\nLow-rank adaptation (LoRA) is a way to adapt a large machine learning model for specific uses without retraining the entire model.\\n\\n#### Learning Objectives\\n\\nAfter reading this article you will be able to:\\n\\n Define \"low-rank adaptation\" (LoRA)\\n Explain in simple fashion how LoRA works\\n Understand the advantages of using LoRA\\n\\nRelated Content\\n\\n---', 'score': 0.9247491, 'raw_content': None}, {'url': 'https://magazine.sebastianraschka.com/p/lora-and-dora-from-scratch', 'title': 'Improving LoRA: Implementing Weight-Decomposed Low-Rank ...', 'content': \"Image 7 Image 8: Ahead of AI Ahead of AI Improving LoRA: Implementing Weight-Decomposed Low-Rank Adaptation (DoRA) from Scratch\\n\\nCopy link\\n\\nFacebook\\n\\nEmail\\n\\nNotes\\n\\nMore\\n\\n46\\n\\n17\\n\\nShare)\\n\\nLow-rank adaptation (LoRA) is a machine learning technique that modifies a pretrained model (for example, an LLM or vision transformer) to better suit a specific, often smaller, dataset by adjusting only a small, low-rank subset of the model's parameters.\", 'score': 0.91671574, 'raw_content': None}, {'url': 'https://medium.com/@efrat_37973/lora-under-the-hood-how-it-really-works-in-visual-generative-ai-e6c10611b461', 'title': 'LoRA Under the Hood: How it Really Works in Visual Generative AI ...', 'content': 'LoRA, short for Low-Rank Adaptation, is a fine-tuning technique designed to modify the behavior of pre-trained models with minimal computational overhead. It operates on the principle of low-rank matrix decomposition, a mathematical approach to approximate large matrices with smaller, more manageable ones. [...] In the context of Visual Generative AI, LoRA plays a pivotal role in fine-tuning large pre-trained models, such as diffusion or transformer-based architectures, for tasks like image synthesis, style transfer, or domain-specific adaptations. LoRA enables these models to learn task-specific adjustments by training only a small amount of parameters.\\n\\nImage 4 [...] Instead of recalibrating the entire model, LoRA usually injects low-rank matrices into the attention layers. This approach preserves the original pre-trained weights while allowing the network to adapt efficiently to new visual styles, datasets, or tasks. The low-rank decomposition reduces the computational cost and memory usage, making it particularly useful for adapting large models to resource-constrained environments or quickly prototyping domain-specific visual applications.', 'score': 0.8965509, 'raw_content': None}, {'url': 'https://huggingface.co/docs/diffusers/main/en/training/lora', 'title': 'LoRA - Hugging Face', 'content': 'LoRA (Low-Rank Adaptation of Large Language Models) is a popular and lightweight training technique that significantly reduces the number of trainable parameters. It works by inserting a smaller number of new weights into the model and only these are trained. This makes training with LoRA much faster, memory-efficient, and produces smaller model weights (a few hundred MBs), which are easier to store and share. LoRA can also be combined with other training techniques like DreamBooth to speedup', 'score': 0.88822687, 'raw_content': None}, {'url': 'https://www.ibm.com/think/topics/lora', 'title': 'What is LoRA (Low-Rank Adaption)?', 'content': 'LoRA adds low-rank matrices to the frozen original machine learning model. The low-rank matrices are updated through gradient descent during fine-tuning, without modifying the weights of the base model. These matrices contain new weights to apply to the model when generating results. The multiplied change matrix is added to the base model weights to get the final fine-tuned model. This process alters the outputs that the model produces with minimal computing power and training time. [...] is a technique used to adapt machine learning models to new contexts. It can adapt large models to specific uses by adding lightweight pieces to the original model rather than changing the entire model. A data scientist can quickly expand the ways that a model can be used rather than requiring them to build an entirely new model. [...] LoRA leverages the concept of lower-rank matrices to make the model training process extremely efficient and fast. Traditionally fine-tuning LLMs requires adjusting the entire model. LoRA focuses on modifying a smaller subset of parameters (lower-rank matrices) to reduce computational and memory overhead.', 'score': 0.8863518, 'raw_content': None}], 'response_time': 2.05}), ToolMessage(content='[{\"title\": \"Tim Dettmers - Assistant Professor, Machine learning - OpenReview\", \"url\": \"https://openreview.net/profile?id=~Tim_Dettmers2\", \"content\": \"Toggle navigationOpenReview.net\\\\n\\\\n   Login\\\\n\\\\n×\\\\n\\\\n×\\\\n### BibTeX Record\\\\n\\\\n_Click anywhere on the box above to highlight complete record_\\\\n\\\\nDone\\\\n\\\\nTim Dettmers\\\\n============\\\\n\\\\n### Assistant Professor, Machine learning; Computer Science, Carnegie Mellon University\\\\n\\\\n### Researcher, Allen Institute for Artificial Intelligence\\\\n\\\\n    Joined September 2019\\\\n\\\\n#### Names\\\\n\\\\nTim Dettmers(Preferred)\\\\n\\\\n   Suggest Name\\\\n\\\\n#### Emails\\\\n\\\\n@gmail.com(Confirmed)\\\\n\\\\n, \\\\n\\\\n@cs.washington.edu(Confirmed)\\\\n\\\\n, \\\\n\\\\n@fb.com(Confirmed)\\\\n\\\\n, [...] @allenai.org(Confirmed)\\\\n\\\\n, \\\\n\\\\n@cmu.edu(Confirmed)\\\\n\\\\n   Suggest Email\\\\n\\\\n#### Personal Links\\\\n\\\\nHomepage\\\\n\\\\nGoogle Scholar\\\\n\\\\nDBLP\\\\n\\\\n   Suggest URL\\\\n\\\\n#### Career & Education History\\\\n\\\\nAssistant Professor\\\\n\\\\nMachine learning; Computer Science, Carnegie Mellon University(cmu.edu)\\\\n\\\\n_2025 – Present_\\\\n\\\\nResearcher\\\\n\\\\nAllen Institute for Artificial Intelligence(allenai.org)\\\\n\\\\n_2024 – Present_\\\\n\\\\nPhD student\\\\n\\\\nComputer Science, University of Washington(cs.washington.edu)\\\\n\\\\n_2018 – 2024_\\\\n\\\\n   Suggest Position [...] About OpenReview\\\\n   Hosting a Venue\\\\n   All Venues\\\\n\\\\n   Contact\\\\n   Feedback×\\\\n### Send Feedback Enter your feedback below and we\\'ll get back to you as soon as possible. To submit a bug report or feature request, you can use the official OpenReview GitHub repository:\\\\n\\\\nReport an issue\\\\n\\\\n Select a topic or type what you need help with                 Cancel Send    \\\\n   Sponsors\\\\n   Join the Team\\\\n\\\\n   Frequently Asked Questions\\\\n   Terms of Use\\\\n   Privacy Policy\", \"score\": 0.7336813}, {\"title\": \"CSE Faculty Candidate Seminar - Tim Dettmers\", \"url\": \"https://cse.gatech.edu/events/2024/02/20/cse-faculty-candidate-seminar-tim-dettmers\", \"content\": \"Bio:Tim Dettmers’s research focuses on making foundation models, such as ChatGPT, accessible to researchers and practitioners by reducing their resource requirements. This involves developing novel compression and networking algorithms and building systems that allow for memory-efficient, fast, and cheap deep learning. These methods enable many more people to use, adapt, or train foundation models without affecting the quality of AI predictions or generations. He is a PhD candidate at the [...] News and Events\\\\n       News\\\\n       Upcoming Events\\\\n       Calendar\\\\n       CSE Biweekly Roundup\\\\n       Analyzer\\\\n       2024 Annual Brief.pdf)\\\\n\\\\n\\\\n\\\\nSearch\\\\n------\\\\n\\\\nSearch \\\\n\\\\nBreadcrumb\\\\n----------\\\\n\\\\n1.   Home\\\\n2.   Events\\\\n\\\\nUpcoming Events\\\\n---------------\\\\n\\\\nCSE Faculty Candidate Seminar - Tim Dettmers\\\\n============================================\\\\n\\\\nImage 2: Tim Dettmers.png\\\\n\\\\nName:Tim Dettmers, Ph.D. student at University of Washington\\\\n\\\\nDate:Tuesday, February 20, 2024 at 11:00 am [...] University of Washington and has won oral, spotlight, and best paper awards at conferences such as ICLR and NeurIPS. He created the bitsandbytes library for efficient deep learning, which is growing at 1.4 million installations per month and received Google Open Source and PyTorch Foundation awards.\", \"score\": 0.70531887}, {\"title\": \"Tim Dettmers | Carnegie Mellon University Computer Science ...\", \"url\": \"https://csd.cmu.edu/people/faculty/tim-dettmers\", \"content\": \"Home\\\\n\\\\n## Main navigation\\\\n\\\\n### Back to Main Menu\\\\n\\\\n### About Main page\\\\n\\\\n### Back to Main Menu\\\\n\\\\n### Admissions Main page\\\\n\\\\n### Back to Main Menu\\\\n\\\\n### Academics Main page\\\\n\\\\n### Back to Main Menu\\\\n\\\\n### People Main page\\\\n\\\\n### Back to Main Menu\\\\n\\\\n### Research Main page\\\\n\\\\n## Breadcrumb\\\\n\\\\n# Tim Dettmers\\\\n\\\\nTim Dettmers\\\\n\\\\nAssistant Professor\\\\n\\\\nWebsite\\\\n\\\\nGoogle Scholars Link\\\\n\\\\nEmail\\\\ndettmers@cmu.edu\\\\n\\\\nDepartment  \\\\nMachine Learning Department  \\\\nComputer Science Department [...] Tim Dettmers\\' work focuses on making foundation models, such as ChatGPT, accessible to researchers and practitioners by reducing their resource requirements. His main focus is to develop open-source agent systems that are competitive with closed-weight agents and can be run on consumer hardware, such as laptops. His research won oral, spotlight, and best paper awards at conferences such as ICLR and NeurIPS and was awarded the Block Award and Madrona Prize. He created the bitsandbytes [...] Research Interests  \\\\nArtificial Intelligence  \\\\nMachine Learning\\\\n\\\\n## Biography\", \"score\": 0.6773251}, {\"title\": \"Tim Dettmers - Quora\", \"url\": \"https://www.quora.com/profile/Tim-Dettmers-1\", \"content\": \"Kernel methods are practically obsolete, but their math still shines on and is worth a look. Kernel methods are not only practically obsolete due to their inferior predictive performance when compared to deep learning, but also because they require a lot of feature engineering and because they are se…\\\\n\\\\n(more)\\\\n\\\\nImage 8: Profile photo for Tim Dettmers\\\\n\\\\nTim Dettmers\\\\n\\\\nPhD Student at University of Washington (2018–present)\\\\n\\\\n·9y [...] PhD Student at University of Washington (2018–present)\\\\n\\\\n·9y\\\\n\\\\nHow feasible would it be to build a deep learning platform on a distributed heterogeneous environment over the Internet (e.g. desktop/mobile grid)? [...] Image 9: Profile photo for Tim Dettmers\\\\n\\\\nTim Dettmers\\\\n\\\\nPhD Student at University of Washington (2018–present)\\\\n\\\\n·9y\\\\n\\\\nHow can I use a deep neural network trained model by multiple GPUs?\\\\n\\\\nIf you want to use multiple GPUs you should use Torch7 along with the Facebook research libraries. The parallel implementations of Torch7 provide good speed, without any loss of accuracy and are very easy to use. There are other libraries that make use of parallelism, but they often have poor APIs o…\\\\n\\\\n(more)\", \"score\": 0.57666177}, {\"title\": \"Tim Dettmers — Making deep learning accessible.\", \"url\": \"https://timdettmers.com/\", \"content\": \"### Recent Posts\\\\n\\\\n## Secondary Sidebar\\\\n\\\\nCopyright © 2025 · Genesis Framework · WordPress · Log in [...] When I attended NAACL, I wanted to do a little test. I had two pitches for my LLM.int8() paper. One pitch is about how I use advanced quantization methods to achieve no performance degradation transformer inference at scale that makes large models more accessible. The other pitch talks about emergent outliers in transformers and how they radically change what transformers learn and how they function. [...] Identity Perspective, the Stability Perspective, and the Variability Perspective.\", \"score\": 0.529045}]', name='tavily_search_results_json', id='6a6cdd05-6996-4193-bf7f-9775f8e5f97a', tool_call_id='call_UyszJy0WnmL9pPTrUBnrjhMj', artifact={'query': 'Tim Dettmers', 'follow_up_questions': None, 'answer': None, 'images': [], 'results': [{'url': 'https://openreview.net/profile?id=~Tim_Dettmers2', 'title': 'Tim Dettmers - Assistant Professor, Machine learning - OpenReview', 'content': \"Toggle navigationOpenReview.net\\n\\n   Login\\n\\n×\\n\\n×\\n### BibTeX Record\\n\\n_Click anywhere on the box above to highlight complete record_\\n\\nDone\\n\\nTim Dettmers\\n============\\n\\n### Assistant Professor, Machine learning; Computer Science, Carnegie Mellon University\\n\\n### Researcher, Allen Institute for Artificial Intelligence\\n\\n    Joined September 2019\\n\\n#### Names\\n\\nTim Dettmers(Preferred)\\n\\n   Suggest Name\\n\\n#### Emails\\n\\n@gmail.com(Confirmed)\\n\\n, \\n\\n@cs.washington.edu(Confirmed)\\n\\n, \\n\\n@fb.com(Confirmed)\\n\\n, [...] @allenai.org(Confirmed)\\n\\n, \\n\\n@cmu.edu(Confirmed)\\n\\n   Suggest Email\\n\\n#### Personal Links\\n\\nHomepage\\n\\nGoogle Scholar\\n\\nDBLP\\n\\n   Suggest URL\\n\\n#### Career & Education History\\n\\nAssistant Professor\\n\\nMachine learning; Computer Science, Carnegie Mellon University(cmu.edu)\\n\\n_2025 – Present_\\n\\nResearcher\\n\\nAllen Institute for Artificial Intelligence(allenai.org)\\n\\n_2024 – Present_\\n\\nPhD student\\n\\nComputer Science, University of Washington(cs.washington.edu)\\n\\n_2018 – 2024_\\n\\n   Suggest Position [...] About OpenReview\\n   Hosting a Venue\\n   All Venues\\n\\n   Contact\\n   Feedback×\\n### Send Feedback Enter your feedback below and we'll get back to you as soon as possible. To submit a bug report or feature request, you can use the official OpenReview GitHub repository:\\n\\nReport an issue\\n\\n Select a topic or type what you need help with                 Cancel Send    \\n   Sponsors\\n   Join the Team\\n\\n   Frequently Asked Questions\\n   Terms of Use\\n   Privacy Policy\", 'score': 0.7336813, 'raw_content': None}, {'url': 'https://cse.gatech.edu/events/2024/02/20/cse-faculty-candidate-seminar-tim-dettmers', 'title': 'CSE Faculty Candidate Seminar - Tim Dettmers', 'content': 'Bio:Tim Dettmers’s research focuses on making foundation models, such as ChatGPT, accessible to researchers and practitioners by reducing their resource requirements. This involves developing novel compression and networking algorithms and building systems that allow for memory-efficient, fast, and cheap deep learning. These methods enable many more people to use, adapt, or train foundation models without affecting the quality of AI predictions or generations. He is a PhD candidate at the [...] News and Events\\n       News\\n       Upcoming Events\\n       Calendar\\n       CSE Biweekly Roundup\\n       Analyzer\\n       2024 Annual Brief.pdf)\\n\\n\\n\\nSearch\\n------\\n\\nSearch \\n\\nBreadcrumb\\n----------\\n\\n1.   Home\\n2.   Events\\n\\nUpcoming Events\\n---------------\\n\\nCSE Faculty Candidate Seminar - Tim Dettmers\\n============================================\\n\\nImage 2: Tim Dettmers.png\\n\\nName:Tim Dettmers, Ph.D. student at University of Washington\\n\\nDate:Tuesday, February 20, 2024 at 11:00 am [...] University of Washington and has won oral, spotlight, and best paper awards at conferences such as ICLR and NeurIPS. He created the bitsandbytes library for efficient deep learning, which is growing at 1.4 million installations per month and received Google Open Source and PyTorch Foundation awards.', 'score': 0.70531887, 'raw_content': None}, {'url': 'https://csd.cmu.edu/people/faculty/tim-dettmers', 'title': 'Tim Dettmers | Carnegie Mellon University Computer Science ...', 'content': \"Home\\n\\n## Main navigation\\n\\n### Back to Main Menu\\n\\n### About Main page\\n\\n### Back to Main Menu\\n\\n### Admissions Main page\\n\\n### Back to Main Menu\\n\\n### Academics Main page\\n\\n### Back to Main Menu\\n\\n### People Main page\\n\\n### Back to Main Menu\\n\\n### Research Main page\\n\\n## Breadcrumb\\n\\n# Tim Dettmers\\n\\nTim Dettmers\\n\\nAssistant Professor\\n\\nWebsite\\n\\nGoogle Scholars Link\\n\\nEmail\\ndettmers@cmu.edu\\n\\nDepartment  \\nMachine Learning Department  \\nComputer Science Department [...] Tim Dettmers' work focuses on making foundation models, such as ChatGPT, accessible to researchers and practitioners by reducing their resource requirements. His main focus is to develop open-source agent systems that are competitive with closed-weight agents and can be run on consumer hardware, such as laptops. His research won oral, spotlight, and best paper awards at conferences such as ICLR and NeurIPS and was awarded the Block Award and Madrona Prize. He created the bitsandbytes [...] Research Interests  \\nArtificial Intelligence  \\nMachine Learning\\n\\n## Biography\", 'score': 0.6773251, 'raw_content': None}, {'url': 'https://www.quora.com/profile/Tim-Dettmers-1', 'title': 'Tim Dettmers - Quora', 'content': 'Kernel methods are practically obsolete, but their math still shines on and is worth a look. Kernel methods are not only practically obsolete due to their inferior predictive performance when compared to deep learning, but also because they require a lot of feature engineering and because they are se…\\n\\n(more)\\n\\nImage 8: Profile photo for Tim Dettmers\\n\\nTim Dettmers\\n\\nPhD Student at University of Washington (2018–present)\\n\\n·9y [...] PhD Student at University of Washington (2018–present)\\n\\n·9y\\n\\nHow feasible would it be to build a deep learning platform on a distributed heterogeneous environment over the Internet (e.g. desktop/mobile grid)? [...] Image 9: Profile photo for Tim Dettmers\\n\\nTim Dettmers\\n\\nPhD Student at University of Washington (2018–present)\\n\\n·9y\\n\\nHow can I use a deep neural network trained model by multiple GPUs?\\n\\nIf you want to use multiple GPUs you should use Torch7 along with the Facebook research libraries. The parallel implementations of Torch7 provide good speed, without any loss of accuracy and are very easy to use. There are other libraries that make use of parallelism, but they often have poor APIs o…\\n\\n(more)', 'score': 0.57666177, 'raw_content': None}, {'url': 'https://timdettmers.com/', 'title': 'Tim Dettmers — Making deep learning accessible.', 'content': '### Recent Posts\\n\\n## Secondary Sidebar\\n\\nCopyright © 2025 · Genesis Framework · WordPress · Log in [...] When I attended NAACL, I wanted to do a little test. I had two pitches for my LLM.int8() paper. One pitch is about how I use advanced quantization methods to achieve no performance degradation transformer inference at scale that makes large models more accessible. The other pitch talks about emergent outliers in transformers and how they radically change what transformers learn and how they function. [...] Identity Perspective, the Stability Perspective, and the Variability Perspective.', 'score': 0.529045, 'raw_content': None}], 'response_time': 1.93}), ToolMessage(content='[{\"title\": \"Attention (machine learning)\", \"url\": \"https://en.wikipedia.org/wiki/Attention_(machine_learning)\", \"content\": \"Attention is a machine learning method that determines the importance of each component in a sequence relative to the other components in that sequence. In natural language processing, importance is represented by \\\\\"soft\\\\\" weights assigned to each word in a sentence. More generally, attention encodes vectors called tokenembeddings across a fixed-width sequence that can range from tens to millions of tokens in size. [...] Inspired by ideas about attention in humans, the attention mechanism was developed to address the weaknesses of leveraging information from the hidden layers of recurrent neural networks. Recurrent neural networks favor more recent information contained in words at the end of a sentence, while information earlier in the sentence tends to be attenuated. Attention allows a token equal access to any part of a sentence directly, rather than only through the previous state.\\\\n\\\\nHistory\\\\n------- [...] Attention(A Q,B K,B V)=A Attention(Q,K,V){\\\\\\\\displaystyle {\\\\\\\\text{Attention}}(\\\\\\\\mathbf {A} \\\\\\\\mathbf {Q} ,\\\\\\\\mathbf {B} \\\\\\\\mathbf {K} ,\\\\\\\\mathbf {B} \\\\\\\\mathbf {V} )=\\\\\\\\mathbf {A} \\\\\\\\,{\\\\\\\\text{Attention}}(\\\\\\\\mathbf {Q} ,\\\\\\\\mathbf {K} ,\\\\\\\\mathbf {V} )}Image 31: {\\\\\\\\displaystyle {\\\\\\\\text{Attention}}(\\\\\\\\mathbf {A} \\\\\\\\mathbf {Q} ,\\\\\\\\mathbf {B} \\\\\\\\mathbf {K} ,\\\\\\\\mathbf {B} \\\\\\\\mathbf {V} )=\\\\\\\\mathbf {A} \\\\\\\\,{\\\\\\\\text{Attention}}(\\\\\\\\mathbf {Q} ,\\\\\\\\mathbf {K} ,\\\\\\\\mathbf {V} )}\", \"score\": 0.9443876}, {\"title\": \"What is Attention Mechanism? - H2O.ai\", \"url\": \"https://h2o.ai/wiki/attention-mechanism/\", \"content\": \"Attention mechanism is important in machine learning and artificial intelligence for several reasons:\\\\n\\\\n   Improved Model Performance: By focusing on relevant information, attention mechanism enables models to make more accurate predictions and capture important patterns or dependencies in the data.\\\\n\\\\n   Effective Handling of Variable-Length Inputs: Attention mechanism allows models to process inputs of variable lengths by attending to different parts of the input sequence dynamically. [...] An attention mechanism is a technique used in machine learning and artificial intelligence to improve the performance of models by focusing on relevant information. It allows models to selectively attend to different parts of the input data, assigning varying degrees of importance or weight to different elements.\\\\n\\\\nHow Attention Mechanisms Work\\\\n----------------------------- [...] Overall, attention mechanisms play a crucial role in machine learning and artificial intelligence by enabling models to focus on relevant information and improve their performance. Its applications span various domains and tasks, making it a valuable tool for data scientists and practitioners. H2O.ai users can benefit from incorporating attention mechanisms into their workflows to enhance the capabilities and outcomes of their machine-learning models.\\\\n\\\\n#### Why H2O.ai\", \"score\": 0.8576849}, {\"title\": \"Attention mechanism: Overview\", \"url\": \"https://www.youtube.com/watch?v=fjJOgb-E41w\", \"content\": \"# Attention mechanism: Overview\\\\n\\\\nGoogle Cloud Tech\\\\n2877 likes\\\\n191914 views\\\\n5 Jun 2023\\\\nThis video introduces you to the attention mechanism, a powerful technique that allows neural networks to focus on specific parts of an input sequence. Attention is used to improve the performance of a variety of machine learning tasks, including machine translation, text summarization, and question answering.\", \"score\": 0.8412138}, {\"title\": \"What is Attention Mechanism in Deep Learning? - Daffodil Software\", \"url\": \"https://insights.daffodilsw.com/blog/what-is-the-attention-mechanism-in-deep-learning\", \"content\": \"Attention is one of the most researched concepts in the domain of deep learning for problems such as neural machine translation and image captioning. There are certain supporting concepts that help better explain the attention mechanism idea as a whole, such as Seq2Seq models, encoders, decoders, hidden states, context vectors, and so on. [...] So attention arose from a set of real-world AI Development instances that have something to do with time-varying data. In terms of machine learning concepts, such collections of data are known as sequences. The earliest machine learning model problem that the attention mechanism derives its concepts from is known as the Sequence to Sequence (Seq2Seq) learning model.\\\\n\\\\n## How does Attention Mechanism Work? [...] The concept of attention in DL emerged from the applications of NLP coupled with machine translation. Alex Graves, a lead AI research scientist at DeepMind, the renowned AI research collective, indirectly defined attention. According to his lecture at DeepMind in 2020,\\\\n\\\\nAttention is memory per unit of time.\", \"score\": 0.81665546}, {\"title\": \"ML - Attention mechanism\", \"url\": \"https://www.geeksforgeeks.org/artificial-intelligence/ml-attention-mechanism/\", \"content\": \"Attention mechanism is a type of neural network that helps a model focus on specific parts of the input data, it is done by assigning weights to different elements in input which helps the model to decide which parts of information are most importart. This makes the model better at understanding complex relationships and dependencies in data. It helps the model to manage long-term dependencies and improves its ability to focus on important features. [...] implement them in TensorFlow.What is Attention in Deep Learning?Attention mechanisms in neural networks 3 min readSliding Window Attention Sliding Window Attention is a type of attention mechanism used in neural networks. The attention mechanism allows the model to focus on different parts of the input sequence when making predictions, providing a more flexible and content-aware approach. Prerequisite: Attention Mechanism | ML A wise m 7 min read [...] Attention component find importance of each encoder\\'s hidden state with respect to the current target hidden state. It generates a context vector that captures the relevant information from the encoder\\'s hidden states. Its mechanism can be represented mathematically as follows:\", \"score\": 0.78650844}]', name='tavily_search_results_json', id='b66adb18-b0f7-4689-981e-158ed701a979', tool_call_id='call_LLpl1eQpizcn8Yg6KteQrs55', artifact={'query': 'Attention in machine learning', 'follow_up_questions': None, 'answer': None, 'images': [], 'results': [{'url': 'https://en.wikipedia.org/wiki/Attention_(machine_learning)', 'title': 'Attention (machine learning)', 'content': 'Attention is a machine learning method that determines the importance of each component in a sequence relative to the other components in that sequence. In natural language processing, importance is represented by \"soft\" weights assigned to each word in a sentence. More generally, attention encodes vectors called tokenembeddings across a fixed-width sequence that can range from tens to millions of tokens in size. [...] Inspired by ideas about attention in humans, the attention mechanism was developed to address the weaknesses of leveraging information from the hidden layers of recurrent neural networks. Recurrent neural networks favor more recent information contained in words at the end of a sentence, while information earlier in the sentence tends to be attenuated. Attention allows a token equal access to any part of a sentence directly, rather than only through the previous state.\\n\\nHistory\\n------- [...] Attention(A Q,B K,B V)=A Attention(Q,K,V){\\\\displaystyle {\\\\text{Attention}}(\\\\mathbf {A} \\\\mathbf {Q} ,\\\\mathbf {B} \\\\mathbf {K} ,\\\\mathbf {B} \\\\mathbf {V} )=\\\\mathbf {A} \\\\,{\\\\text{Attention}}(\\\\mathbf {Q} ,\\\\mathbf {K} ,\\\\mathbf {V} )}Image 31: {\\\\displaystyle {\\\\text{Attention}}(\\\\mathbf {A} \\\\mathbf {Q} ,\\\\mathbf {B} \\\\mathbf {K} ,\\\\mathbf {B} \\\\mathbf {V} )=\\\\mathbf {A} \\\\,{\\\\text{Attention}}(\\\\mathbf {Q} ,\\\\mathbf {K} ,\\\\mathbf {V} )}', 'score': 0.9443876, 'raw_content': None}, {'url': 'https://h2o.ai/wiki/attention-mechanism/', 'title': 'What is Attention Mechanism? - H2O.ai', 'content': 'Attention mechanism is important in machine learning and artificial intelligence for several reasons:\\n\\n   Improved Model Performance: By focusing on relevant information, attention mechanism enables models to make more accurate predictions and capture important patterns or dependencies in the data.\\n\\n   Effective Handling of Variable-Length Inputs: Attention mechanism allows models to process inputs of variable lengths by attending to different parts of the input sequence dynamically. [...] An attention mechanism is a technique used in machine learning and artificial intelligence to improve the performance of models by focusing on relevant information. It allows models to selectively attend to different parts of the input data, assigning varying degrees of importance or weight to different elements.\\n\\nHow Attention Mechanisms Work\\n----------------------------- [...] Overall, attention mechanisms play a crucial role in machine learning and artificial intelligence by enabling models to focus on relevant information and improve their performance. Its applications span various domains and tasks, making it a valuable tool for data scientists and practitioners. H2O.ai users can benefit from incorporating attention mechanisms into their workflows to enhance the capabilities and outcomes of their machine-learning models.\\n\\n#### Why H2O.ai', 'score': 0.8576849, 'raw_content': None}, {'url': 'https://www.youtube.com/watch?v=fjJOgb-E41w', 'title': 'Attention mechanism: Overview', 'content': '# Attention mechanism: Overview\\n\\nGoogle Cloud Tech\\n2877 likes\\n191914 views\\n5 Jun 2023\\nThis video introduces you to the attention mechanism, a powerful technique that allows neural networks to focus on specific parts of an input sequence. Attention is used to improve the performance of a variety of machine learning tasks, including machine translation, text summarization, and question answering.', 'score': 0.8412138, 'raw_content': None}, {'url': 'https://insights.daffodilsw.com/blog/what-is-the-attention-mechanism-in-deep-learning', 'title': 'What is Attention Mechanism in Deep Learning? - Daffodil Software', 'content': 'Attention is one of the most researched concepts in the domain of deep learning for problems such as neural machine translation and image captioning. There are certain supporting concepts that help better explain the attention mechanism idea as a whole, such as Seq2Seq models, encoders, decoders, hidden states, context vectors, and so on. [...] So attention arose from a set of real-world AI Development instances that have something to do with time-varying data. In terms of machine learning concepts, such collections of data are known as sequences. The earliest machine learning model problem that the attention mechanism derives its concepts from is known as the Sequence to Sequence (Seq2Seq) learning model.\\n\\n## How does Attention Mechanism Work? [...] The concept of attention in DL emerged from the applications of NLP coupled with machine translation. Alex Graves, a lead AI research scientist at DeepMind, the renowned AI research collective, indirectly defined attention. According to his lecture at DeepMind in 2020,\\n\\nAttention is memory per unit of time.', 'score': 0.81665546, 'raw_content': None}, {'url': 'https://www.geeksforgeeks.org/artificial-intelligence/ml-attention-mechanism/', 'title': 'ML - Attention mechanism', 'content': \"Attention mechanism is a type of neural network that helps a model focus on specific parts of the input data, it is done by assigning weights to different elements in input which helps the model to decide which parts of information are most importart. This makes the model better at understanding complex relationships and dependencies in data. It helps the model to manage long-term dependencies and improves its ability to focus on important features. [...] implement them in TensorFlow.What is Attention in Deep Learning?Attention mechanisms in neural networks 3 min readSliding Window Attention Sliding Window Attention is a type of attention mechanism used in neural networks. The attention mechanism allows the model to focus on different parts of the input sequence when making predictions, providing a more flexible and content-aware approach. Prerequisite: Attention Mechanism | ML A wise m 7 min read [...] Attention component find importance of each encoder's hidden state with respect to the current target hidden state. It generates a context vector that captures the relevant information from the encoder's hidden states. Its mechanism can be represented mathematically as follows:\", 'score': 0.78650844, 'raw_content': None}], 'response_time': 2.83})]\n",
            "\n",
            "\n",
            "\n",
            "Receiving update from node: 'agent'\n",
            "[AIMessage(content=\"Here's a summary of the information I found:\\n\\n1. **LoRA (Low-Rank Adaptation)**: LoRA is a machine learning technique designed to adapt large pre-trained models to new tasks or domains efficiently. It works by adding low-rank matrices to the original model's weights, which are then fine-tuned, rather than retraining the entire model. This approach significantly reduces computational requirements and training time, making it easier to customize large models for specific applications. LoRA is particularly useful for fine-tuning models like language models and vision transformers with minimal resources. [Learn more](https://www.cloudflare.com/learning/ai/what-is-lora/)\\n\\n2. **Tim Dettmers**: Tim Dettmers is an assistant professor in the Machine Learning Department at Carnegie Mellon University and a researcher at the Allen Institute for Artificial Intelligence. His research focuses on making foundation models like ChatGPT more accessible by reducing their resource requirements. He has developed various methods and tools, including the bitsandbytes library, to enable efficient deep learning on consumer hardware. He has received multiple awards for his work and is active in the AI research community. [More about him](https://csd.cmu.edu/people/faculty/tim-dettmers)\\n\\n3. **Attention in Machine Learning**: Attention is a mechanism that allows models to focus on the most relevant parts of the input data when making predictions. It assigns weights to different elements in a sequence, enabling the model to prioritize important information. Attention mechanisms are widely used in natural language processing tasks like translation, summarization, and question answering, as well as in image processing. They help models handle variable-length inputs and capture dependencies more effectively. [Further details](https://en.wikipedia.org/wiki/Attention_(machine_learning))\\n\\nIf you'd like more detailed information on any of these topics, feel free to ask!\", additional_kwargs={'refusal': None}, response_metadata={'token_usage': {'completion_tokens': 376, 'prompt_tokens': 4356, 'total_tokens': 4732, 'completion_tokens_details': {'accepted_prediction_tokens': 0, 'audio_tokens': 0, 'reasoning_tokens': 0, 'rejected_prediction_tokens': 0}, 'prompt_tokens_details': {'audio_tokens': 0, 'cached_tokens': 0}}, 'model_name': 'gpt-4.1-nano-2025-04-14', 'system_fingerprint': 'fp_38343a2f8f', 'id': 'chatcmpl-C3pVGz3KLdmNYymq315dU0I3vgfwp', 'service_tier': 'default', 'finish_reason': 'stop', 'logprobs': None}, id='run--e4f8cb5c-be63-4d22-ab5f-52719793abf0-0', usage_metadata={'input_tokens': 4356, 'output_tokens': 376, 'total_tokens': 4732, 'input_token_details': {'audio': 0, 'cache_read': 0}, 'output_token_details': {'audio': 0, 'reasoning': 0}})]\n",
            "\n",
            "\n",
            "\n"
          ]
        }
      ],
      "source": [
        "inputs = {\"messages\" : [HumanMessage(content=\"Related to machine learning, what is LoRA? Also, who is Tim Dettmers? Also, what is Attention?\")]}\n",
        "\n",
        "async for chunk in agent_with_helpfulness_check.astream(inputs, stream_mode=\"updates\"):\n",
        "    for node, values in chunk.items():\n",
        "        print(f\"Receiving update from node: '{node}'\")\n",
        "        print(values[\"messages\"])\n",
        "        print(\"\\n\\n\")"
      ]
    },
    {
      "cell_type": "markdown",
      "metadata": {
        "id": "yVmZPs6lnpsM"
      },
      "source": [
        "### Task 4: LangGraph for the \"Patterns\" of GenAI\n",
        "\n",
        "Let's ask our system about the 4 patterns of Generative AI:\n",
        "\n",
        "1. Prompt Engineering\n",
        "2. RAG\n",
        "3. Fine-tuning\n",
        "4. Agents"
      ]
    },
    {
      "cell_type": "code",
      "execution_count": 37,
      "metadata": {
        "id": "ZoLl7GlXoae-"
      },
      "outputs": [],
      "source": [
        "patterns = [\"prompt engineering\", \"RAG\", \"fine-tuning\", \"LLM-based agents\"]"
      ]
    },
    {
      "cell_type": "code",
      "execution_count": 38,
      "metadata": {
        "colab": {
          "base_uri": "https://localhost:8080/"
        },
        "id": "Zkh0YJuCp3Zl",
        "outputId": "d847426e-71b3-47e6-b1ae-351a78d68d1e"
      },
      "outputs": [
        {
          "name": "stdout",
          "output_type": "stream",
          "text": [
            "Prompt engineering is the process of designing and refining prompts to effectively communicate with and elicit desired responses from AI language models like GPT-3 and GPT-4. It involves crafting clear, specific, and contextually appropriate prompts to improve the quality, relevance, and accuracy of the AI's outputs. Prompt engineering is crucial for maximizing the utility of AI models in various applications, including content creation, coding, data analysis, and more.\n",
            "\n",
            "Prompt engineering began gaining significant attention around 2020-2021, coinciding with the rise of large language models and their increasing adoption across industries. As these models became more powerful and versatile, the need for effective prompt design became evident, leading to the emergence of prompt engineering as a specialized skill and area of study within AI and NLP communities. The term and its practices have continued to evolve rapidly as AI technology advances.\n",
            "\n",
            "\n",
            "\n",
            "RAG, which stands for Retrieval-Augmented Generation, is a technique in natural language processing that combines pre-trained language models with information retrieval systems. This approach allows models to access and incorporate external knowledge from large document collections or databases during the generation process, leading to more accurate and contextually relevant responses.\n",
            "\n",
            "RAG was introduced by Facebook AI Research (FAIR) in a paper published in 2020. It marked a significant advancement in the field by enabling language models to effectively retrieve relevant information and generate more informed and precise outputs, especially in tasks requiring factual accuracy or domain-specific knowledge.\n",
            "\n",
            "Would you like a more detailed explanation of how RAG works or its applications?\n",
            "\n",
            "\n",
            "\n",
            "Fine-tuning is a process in machine learning where a pre-trained model is further trained on a specific dataset to adapt it to a particular task or domain. This approach leverages the knowledge the model has already acquired during its initial training on large, general datasets, and then refines it to improve performance on specialized tasks. Fine-tuning typically involves adjusting the model's weights through additional training epochs on the new dataset, often with a smaller learning rate to make subtle adjustments.\n",
            "\n",
            "Fine-tuning has been a common practice in machine learning for many years, especially in fields like natural language processing and computer vision. However, it gained significant prominence and broke onto the mainstream scene with the advent of large pre-trained models such as BERT (Bidirectional Encoder Representations from Transformers) in 2018, and later with models like GPT-2 in 2019 and GPT-3 in 2020. These models demonstrated that large-scale pre-training followed by fine-tuning could achieve state-of-the-art results across a wide range of tasks, revolutionizing the field and making fine-tuning a standard approach in AI development.\n",
            "\n",
            "\n",
            "\n",
            "LLM-based agents are intelligent systems that utilize large language models (LLMs) to perform a variety of tasks, such as understanding natural language, generating human-like text, and making decisions or taking actions based on the input they receive. These agents leverage the capabilities of advanced language models like GPT-3, GPT-4, and similar architectures to interact with users, automate processes, and solve complex problems across different domains.\n",
            "\n",
            "The concept of LLM-based agents started gaining significant attention around 2020-2021, as large language models became more powerful and accessible. The release of OpenAI's GPT-3 in June 2020 marked a major milestone, showcasing the potential of LLMs to serve as foundational components for building intelligent agents. Since then, the development and deployment of LLM-based agents have rapidly expanded, becoming a prominent area of research and application in artificial intelligence.\n",
            "\n",
            "Would you like more detailed information on the history, specific applications, or recent advancements in LLM-based agents?\n",
            "\n",
            "\n",
            "\n"
          ]
        }
      ],
      "source": [
        "for pattern in patterns:\n",
        "  what_is_string = f\"What is {pattern} and when did it break onto the scene??\"\n",
        "  inputs = {\"messages\" : [HumanMessage(content=what_is_string)]}\n",
        "  messages = agent_with_helpfulness_check.invoke(inputs)\n",
        "  print(messages[\"messages\"][-1].content)\n",
        "  print(\"\\n\\n\")"
      ]
    }
  ],
  "metadata": {
    "colab": {
      "provenance": []
    },
    "kernelspec": {
      "display_name": "05-our-first-agent-with-langgraph",
      "language": "python",
      "name": "python3"
    },
    "language_info": {
      "codemirror_mode": {
        "name": "ipython",
        "version": 3
      },
      "file_extension": ".py",
      "mimetype": "text/x-python",
      "name": "python",
      "nbconvert_exporter": "python",
      "pygments_lexer": "ipython3",
      "version": "3.13.5"
    }
  },
  "nbformat": 4,
  "nbformat_minor": 0
}
